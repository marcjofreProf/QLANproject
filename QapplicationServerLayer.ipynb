{
 "cells": [
  {
   "cell_type": "code",
   "execution_count": 1,
   "metadata": {},
   "outputs": [],
   "source": [
    "#####################################################\n",
    "# Author: Prof. Marc Jofre\n",
    "# Dept. Network Engineering\n",
    "# Universitat Politècnica de Catalunya - Technical University of Catalonia\n",
    "#\n",
    "# Modified: 2024\n",
    "# Created: 2024\n",
    "#\n",
    "# Script Quantum LAN application Server layer\n",
    "#####################################################\n",
    "import sys, os\n",
    "# !pip install numpy\n",
    "import numpy as np\n",
    "#!pip install --upgrade pip\n",
    "#!pip install --upgrade pillow\n",
    "#!pip install matplotlib\n",
    "import matplotlib.pyplot as plt\n",
    "import matplotlib as mpl\n",
    "#from google.colab import files\n",
    "#print(plt.style.available)\n",
    "mpl.style.use('default')\n",
    "import time\n",
    "\n",
    "pathScriptBelowAgentScript='./CppScripts/'\n",
    "sys.path.append(pathScriptBelowAgentScript)\n",
    "pathScriptBelowAgentScript='./JupyterPythonScripts/'\n",
    "sys.path.append(pathScriptBelowAgentScript)\n",
    "pathScriptData='../../GeneratedDataPythonJupyter/'\n",
    "\n",
    "import QpresentationLayerAgent\n",
    "\n",
    "#####################################################\n",
    "# Parameters\n",
    "## Network\n",
    "IPhostServerOpNet = \"127.0.0.1\"#10.0.0.3\" # IP address of the server host (this host) in the operational network\n",
    "IPhostServerConNet = \"192.168.9.1\" # IP address of the server host (this host) in the control/configuration network\n",
    "IPnodeServerConNet = \"192.168.9.2\" # IP address of the server node (connected to the server host) in the control/configuration network\n",
    "IPhostClientOpNet = \"10.0.0.1\" # IP address of the host client (connected to the server host) in the operational network\n",
    "IPnodeClientConNet = \"192.168.8.2\" # IP address of the client node (connecte to the client host) in the control/configuration network\n",
    "\n",
    "ParamsServerListChar = [IPnodeServerConNet,IPhostClientOpNet,IPhostServerOpNet,IPhostServerConNet,\"server\"]\n",
    "\n",
    "##############################################################\n",
    "# Functions\n",
    "def ListCharArrayParser(ListCharArrayAux):\n",
    "    # Actually concatenating a python list of strings to a single string\n",
    "    ParsedCharArrayAux=\",\".join(ListCharArrayAux)+\",\"\n",
    "    return ParsedCharArrayAux\n",
    "\n",
    "# The parameters passed and received from agents are structured\n",
    "ParamsAscendingCharArray = \"none\"\n",
    "ParamsDescendingCharArray = ListCharArrayParser(ParamsServerListChar)\n",
    "\n",
    "### RUN UP TO HERE (INCLUDED) TO INITIALIZE CONNECTIONS AND THREAD QtransportLayerAgentH thread #####\n",
    "# At this point, in this order, the node in the server has been initialized, the node in the client, the server host (up to this equivalent point) and then the client host (up to here)\n",
    "# Create instance of Agent below\n",
    "QPLAagent = QpresentationLayerAgent.QPLA(ParamsDescendingCharArray,ParamsAscendingCharArray)\n",
    "### Initiate thread process in QtransportLayerAgentH\n",
    "QPLAagent.InitAgentProcess() # Initialize the thread in QtransportLayerAgentH"
   ]
  },
  {
   "cell_type": "code",
   "execution_count": null,
   "metadata": {},
   "outputs": [],
   "source": [
    "#####################\n",
    "# Some tests to send information to the different elements and see them output at the respective console\n",
    "# The required fields of a message are (separated by commas): IPdestination,IPorigin,Type,Command,Payload\n",
    "messagePayloadAux=\"Host server sends information to attached node\"\n",
    "messageCommandAux=\"print\"\n",
    "messageTypeAux=\"Info\"\n",
    "messageIPorg=IPhostServerOpNet\n",
    "messageIPdest=IPnodeServerConNet\n",
    "messageAuxChar = ListCharArrayParser([messageIPdest,messageIPorg,messageTypeAux,messageCommandAux,messagePayloadAux])\n",
    "QPLAagent.SendMessageAgent(messageAuxChar)\n",
    "\n",
    "messagePayloadAux=\"Host server sends information to client host\"\n",
    "messageCommandAux=\"print\"\n",
    "messageTypeAux=\"Info\"\n",
    "messageIPorg=IPhostServerOpNet\n",
    "messageIPdest=IPhostClientOpNet\n",
    "messageAuxChar = ListCharArrayParser([messageIPdest,messageIPorg,messageTypeAux,messageCommandAux,messagePayloadAux])\n",
    "QPLAagent.SendMessageAgent(messageAuxChar)\n",
    "\n",
    "messagePayloadAux=\"Host server sends information to host client node\"\n",
    "messageCommandAux=\"print\"\n",
    "messageTypeAux=\"Control\"\n",
    "messageIPorg=IPhostServerOpNet\n",
    "messageIPdest=IPhostClientOpNet # Notice that it is send to the host (which it will forward it to the node)\n",
    "messageAuxChar = ListCharArrayParser([messageIPdest,messageIPorg,messageTypeAux,messageCommandAux,messagePayloadAux])\n",
    "QPLAagent.SendMessageAgent(messageAuxChar)"
   ]
  },
  {
   "cell_type": "code",
   "execution_count": 4,
   "metadata": {},
   "outputs": [
    {
     "name": "stdout",
     "output_type": "stream",
     "text": [
      "NumStoredQubitsNode[0]: 0\n"
     ]
    }
   ],
   "source": [
    "#### Some test to request QuBits from the other host #################\n",
    "QPLAagent.SimulateRequestQubitsHost(IPhostClientOpNet,IPhostServerOpNet,IPnodeServerConNet,IPhostServerOpNet,128) # Request that host's node sends qubits to this host's node\n",
    "NumStoredQubitsNode = np.zeros(1, dtype=np.intc)# np.array([0], dtype=np.intc)\n",
    "QPLAagent.SimulateRetrieveNumStoredQubitsNode(NumStoredQubitsNode) # Supposing that node has received quBits, return number of QuBits\n",
    "print('NumStoredQubitsNode[0]: '+str(NumStoredQubitsNode[0]))"
   ]
  },
  {
   "cell_type": "code",
   "execution_count": 11,
   "metadata": {},
   "outputs": [
    {
     "name": "stdout",
     "output_type": "stream",
     "text": [
      "ListNumStoredQubitsNode: [2047, 2048, 2048, 2048, 2048, 2046, 2045, 2047, 2048, 2048, 2045, 2044, 2044, 2045, 2043, 2032, 2025, 2018, 1912, 1860, 1765, 1697, 1073, 576, 473, 272, 33, 46, 25, 12, 2, 10, 1, 3, 5, 0, 0, 0, 3, 0, 0, 1, 0, 0, 0, 1, 0, 2, 0, 2, 0, 1, 0, 0, 3, 2, 3, 1, 0, 0, 0, 0, 0, 11, 4, 5, 5, 3, 27, 30, 1482, 1582, 1825, 1909, 1999, 2014, 2021, 2014, 2031, 2040, 2042, 2044, 2034, 2034, 2046, 2045, 2045, 2044, 2046, 2045, 2047, 2002, 2047, 2047, 2047, 2046, 2047, 2046, 2046, 2047, 2047, 2047, 2046, 2045, 2046, 2047, 2047, 2047, 2001, 2047, 2047, 2047, 2045, 2046, 2046, 2043, 2033, 2042, 2035, 2004, 1865, 1843, 1654, 1102, 543, 214, 176, 111, 37, 38, 43, 13, 8, 9, 15, 6, 0, 1, 1, 1, 1, 4, 5, 10, 1, 0, 0, 0, 0, 0, 1, 1, 0, 0, 2, 1, 0, 10, 0, 2, 0, 7, 0, 1, 1, 1, 237, 0, 6, 9, 10, 17, 40, 68, 221, 1406, 1572, 1643, 1825, 1907, 1921, 1935, 2001, 2004, 2015, 1998, 2026, 2026, 2038, 2040, 2034, 2039, 2043, 2044, 2042, 2043, 2035, 2044, 2045, 2046, 2002, 2044, 2044, 2043, 2046, 2043, 2046, 2045, 2046, 2046, 2046, 2046, 2038, 2045, 2045, 2045, 2044, 2046, 2044, 2046, 2046, 2044, 2046, 2045, 2045, 2043, 2045, 2045, 2046, 2032, 2041, 2029, 1991, 2005, 1907, 1843, 1699, 1139, 499, 481, 443, 301, 397, 184, 123, 48, 41, 27, 24, 14, 10, 7, 3, 14, 2, 5, 0, 0, 3, 4, 1, 4, 1, 0, 0, 0, 0, 0, 0, 9, 1, 2, 1, 8, 3, 0, 0, 3, 9, 2, 0, 2, 7, 3, 0, 2, 0, 0, 1, 3, 3, 2, 6, 10, 13, 45, 57, 57, 569, 1201, 1470, 1656, 1766, 1877, 1793, 1883, 1932, 1987, 1965, 2023, 2033, 2038, 2039, 2043, 2031, 2040, 2040, 2040, 2045, 2039, 2034, 2045, 2044, 2043, 2045, 2044, 2045, 2045, 2044, 2040, 2045, 2043, 2045, 2045, 2045, 2045, 2045, 2045, 2045, 2045, 2043, 2045, 2045, 29, 2042, 2044, 2045, 2045, 2044, 2045, 2044, 2045, 2045, 2043, 2045, 2045, 2045, 2044, 2044, 2043, 2043, 2021, 2044, 2042, 2043, 1989, 1804, 1802, 1750, 1652, 1476, 867, 534, 535, 388, 320, 272, 218, 160, 122, 88, 37, 23, 17, 14, 12, 17, 7, 8, 7, 18, 0, 7, 7, 0, 0, 2, 2, 0, 1, 0, 0, 1, 1, 0, 3, 0, 0, 4, 0, 1, 0, 9, 0, 8, 3, 0, 0, 0, 0, 0, 2, 1, 2, 3, 0, 0, 0, 0, 3, 2, 0, 0, 1, 0, 0, 3, 0, 0, 2, 0, 3, 0, 0, 0, 8, 1, 0, 0, 6, 1, 1, 3, 0, 0, 1, 0, 1, 1, 15, 15, 3, 5, 16, 72, 22, 32, 205, 54, 153, 173, 191, 320, 359, 723, 1126, 1403, 1533, 1538, 1516, 1635, 1591, 1625, 1678, 1769, 1845, 1886, 1883, 1894, 1934, 1941, 1958, 2021, 1997, 1997, 2008, 2002, 2039, 2038, 2040, 2039, 2039, 2042, 2036, 2044, 2041, 2044]\n"
     ]
    }
   ],
   "source": [
    "###### Hard resilience test #######\n",
    "import random\n",
    "import time\n",
    "NumTestMax = 1000\n",
    "ListNumStoredQubitsNode=[]\n",
    "for iIterTest in range(0,NumTestMax,1):\n",
    "    RandomTestNum=random.randint(0, 1)\n",
    "    if (RandomTestNum==0):\n",
    "        # Sending messages\n",
    "        messagePayloadAux=\"Host server sends information to attached node\"\n",
    "        messageCommandAux=\"print\"\n",
    "        messageTypeAux=\"Info\"\n",
    "        messageIPorg=IPhostServerOpNet\n",
    "        messageIPdest=IPnodeServerConNet\n",
    "        messageAuxChar = ListCharArrayParser([messageIPdest,messageIPorg,messageTypeAux,messageCommandAux,messagePayloadAux])\n",
    "        QPLAagent.SendMessageAgent(messageAuxChar)\n",
    "        time.sleep(0.1)\n",
    "        messagePayloadAux=\"Host server sends information to client host\"\n",
    "        messageCommandAux=\"print\"\n",
    "        messageTypeAux=\"Info\"\n",
    "        messageIPorg=IPhostServerOpNet\n",
    "        messageIPdest=IPhostClientOpNet\n",
    "        messageAuxChar = ListCharArrayParser([messageIPdest,messageIPorg,messageTypeAux,messageCommandAux,messagePayloadAux])\n",
    "        QPLAagent.SendMessageAgent(messageAuxChar)\n",
    "        time.sleep(0.1)\n",
    "        messagePayloadAux=\"Host server sends information to host client node\"\n",
    "        messageCommandAux=\"print\"\n",
    "        messageTypeAux=\"Control\"\n",
    "        messageIPorg=IPhostServerOpNet\n",
    "        messageIPdest=IPhostClientOpNet # Notice that it is send to the host (which it will forward it to the node)\n",
    "        messageAuxChar = ListCharArrayParser([messageIPdest,messageIPorg,messageTypeAux,messageCommandAux,messagePayloadAux])\n",
    "        QPLAagent.SendMessageAgent(messageAuxChar)\n",
    "    else:\n",
    "        # Sending request\n",
    "        QPLAagent.SimulateRequestQubitsHost(IPhostClientOpNet,IPhostServerOpNet,IPnodeServerConNet,IPhostServerOpNet,128) # Request that host's node sends qubits to this host's node\n",
    "        NumStoredQubitsNode = np.zeros(1, dtype=np.intc)# np.array([0], dtype=np.intc)\n",
    "        QPLAagent.SimulateRetrieveNumStoredQubitsNode(NumStoredQubitsNode) # Supposing that node has received quBits, return number of QuBits\n",
    "        ListNumStoredQubitsNode.append(NumStoredQubitsNode[0])\n",
    "    time.sleep(25.0)\n",
    "    time.sleep(int(25.0*random.uniform(0,1)))\n",
    "print('ListNumStoredQubitsNode: '+str(ListNumStoredQubitsNode))"
   ]
  },
  {
   "cell_type": "code",
   "execution_count": 12,
   "metadata": {},
   "outputs": [],
   "source": [
    "# Save generated data\n",
    "#print(os.getcwd())\n",
    "ExtraDetailString='NoPTP'#'NoPTP'\n",
    "np.save(pathScriptData+'ServerListNumStoredQubitsNode'+ExtraDetailString,ListNumStoredQubitsNode)"
   ]
  },
  {
   "cell_type": "code",
   "execution_count": 13,
   "metadata": {},
   "outputs": [
    {
     "data": {
      "image/png": "[encoded data removed]",
      "text/plain": [
       "<Figure size 432x288 with 1 Axes>"
      ]
     },
     "metadata": {
      "needs_background": "light"
     },
     "output_type": "display_data"
    }
   ],
   "source": [
    "# Plot ListNumStoredQubitsNode data\n",
    "ExtraDetailString='NoPTP'#'NoPTP'\n",
    "ListNumStoredQubitsNode=np.load(pathScriptData+'ServerListNumStoredQubitsNode'+ExtraDetailString+'.npy')\n",
    "plt.figure()#figsize=(8.0, 4.0))\n",
    "ax = plt.gca()\n",
    "plt.hist(ListNumStoredQubitsNode,bins=np.arange(0,2049,32))\n",
    "plt.xlabel('QuBits')\n",
    "plt.ylabel('hist.')\n",
    "#plt.title('Antenna Throughput Comparison')\n",
    "#plt.ylim(0, max(throughput_values) + 10)  # Adjust the y-axis limit for better visualization\n",
    "plt.tight_layout()\n",
    "#plt.savefig(pathScriptData+'TheorLOSvsNLOS.pdf', bbox_inches='tight', format = 'pdf', dpi = 300 )#dpi = 600 )\n",
    "plt.show()"
   ]
  },
  {
   "cell_type": "code",
   "execution_count": null,
   "metadata": {},
   "outputs": [],
   "source": []
  }
 ],
 "metadata": {
  "kernelspec": {
   "display_name": "Python 3",
   "language": "python",
   "name": "python3"
  },
  "language_info": {
   "codemirror_mode": {
    "name": "ipython",
    "version": 3
   },
   "file_extension": ".py",
   "mimetype": "text/x-python",
   "name": "python",
   "nbconvert_exporter": "python",
   "pygments_lexer": "ipython3",
   "version": "3.7.3"
  }
 },
 "nbformat": 4,
 "nbformat_minor": 5
}
