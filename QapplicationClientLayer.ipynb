{
 "cells": [
  {
   "cell_type": "code",
   "execution_count": 1,
   "metadata": {},
   "outputs": [],
   "source": [
    "#####################################################\n",
    "# Author: Marc Jofre\n",
    "# Script Quantum LAN application Client layer\n",
    "#####################################################\n",
    "import sys, os\n",
    "\n",
    "pathScriptBelowAgentScript='./CppScripts/'\n",
    "sys.path.append(pathScriptBelowAgentScript)\n",
    "pathScriptBelowAgentScript='./JupyterPythonScripts/'\n",
    "sys.path.append(pathScriptBelowAgentScript)\n",
    "\n",
    "import QpresentationLayerAgent\n",
    "#####################################################\n",
    "# Parameters\n",
    "## Network\n",
    "IPnodeServerConNet = \"192.168.8.2\" # IP address of the server node (connected to the client host) in the control/configuration network\n",
    "IPhostServerOpNet = \"10.0.0.3\" # IP address of the server host in the operation network\n",
    "\n",
    "ParamsClientListChar = [IPnodeServerConNet,IPhostServerOpNet,\"client\"]"
   ]
  },
  {
   "cell_type": "code",
   "execution_count": 2,
   "metadata": {},
   "outputs": [],
   "source": [
    "##############################################################\n",
    "# Functions\n",
    "def ListCharArrayParser(ListCharArrayAux):\n",
    "    # Actually concatenating a python list of strings to a single string\n",
    "    ParsedCharArrayAux=\",\".join(ListCharArrayAux)\n",
    "    return ParsedCharArrayAux"
   ]
  },
  {
   "cell_type": "code",
   "execution_count": 3,
   "metadata": {},
   "outputs": [],
   "source": [
    "# The parameters passed and received from agents are structured\n",
    "ParamsAscendingCharArray = \"none\"\n",
    "ParamsDescendingCharArray = ListCharArrayParser(ParamsClientListChar)"
   ]
  },
  {
   "cell_type": "code",
   "execution_count": 4,
   "metadata": {},
   "outputs": [],
   "source": [
    "QpresentationLayerAgent.InitAgent(ParamsDescendingCharArray,ParamsAscendingCharArray) # Initialize the below Agent"
   ]
  },
  {
   "cell_type": "code",
   "execution_count": null,
   "metadata": {},
   "outputs": [],
   "source": []
  }
 ],
 "metadata": {
  "kernelspec": {
   "display_name": "Python 3",
   "language": "python",
   "name": "python3"
  },
  "language_info": {
   "codemirror_mode": {
    "name": "ipython",
    "version": 3
   },
   "file_extension": ".py",
   "mimetype": "text/x-python",
   "name": "python",
   "nbconvert_exporter": "python",
   "pygments_lexer": "ipython3",
   "version": "3.7.3"
  }
 },
 "nbformat": 4,
 "nbformat_minor": 5
}
