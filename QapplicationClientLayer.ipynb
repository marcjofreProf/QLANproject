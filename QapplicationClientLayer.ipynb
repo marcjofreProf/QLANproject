{
 "cells": [
  {
   "cell_type": "code",
   "execution_count": 1,
   "metadata": {},
   "outputs": [],
   "source": [
    "#####################################################\n",
    "# Author: Prof. Marc Jofre\n",
    "# Dept. Network Engineering\n",
    "# Universitat Politècnica de Catalunya - Technical University of Catalonia\n",
    "#\n",
    "# Modified: 2024\n",
    "# Created: 2024\n",
    "#\n",
    "# Script Quantum LAN application Client layer\n",
    "#####################################################\n",
    "import sys, os\n",
    "# print(\"Python version:\", sys.version)\n",
    "# !pip install numpy\n",
    "import numpy as np\n",
    "#!pip install --upgrade pip\n",
    "#!pip install --upgrade pillow\n",
    "#!pip install matplotlib\n",
    "import matplotlib.pyplot as plt\n",
    "import matplotlib as mpl\n",
    "#from google.colab import files\n",
    "#print(plt.style.available)\n",
    "mpl.style.use('default')\n",
    "import time\n",
    "\n",
    "pathScriptBelowAgentScript='./CppScripts/'\n",
    "sys.path.append(pathScriptBelowAgentScript)\n",
    "pathScriptBelowAgentScript='./JupyterPythonScripts/'\n",
    "sys.path.append(pathScriptBelowAgentScript)\n",
    "pathScriptData='../../GeneratedDataPythonJupyter/'\n",
    "\n",
    "import QpresentationLayerAgent\n",
    "#####################################################\n",
    "# Parameters\n",
    "## Network\n",
    "IPhostClientOpNet = \"10.0.0.1\" # IP address of the client host (this host) in the operation network\n",
    "IPhostClientConNet = \"192.168.8.1\" # IP address of the client host (this host) in the contro/configuration network\n",
    "IPnodeClientConNet = \"192.168.8.2\" # IP address of the client node (connected to the client host) in the control/configuration network\n",
    "IPhostServerOpNet = \"127.0.0.1\"#10.0.0.3\" # IP address of the server host in the operation network\n",
    "IPnodeServerConNet = \"192.168.9.2\" # IP address of the server node in the control/configuration network\n",
    "\n",
    "ParamsClientListChar = [IPnodeClientConNet,IPhostServerOpNet,IPhostClientOpNet,IPhostClientConNet,\"client\"]\n",
    "\n",
    "##############################################################\n",
    "# Functions\n",
    "def ListCharArrayParser(ListCharArrayAux):\n",
    "    # Actually concatenating a python list of strings to a single string\n",
    "    ParsedCharArrayAux=\",\".join(ListCharArrayAux)+\",\"\n",
    "    return ParsedCharArrayAux\n",
    "\n",
    "# The parameters passed and received from agents are structured\n",
    "ParamsAscendingCharArray = \"none\"\n",
    "ParamsDescendingCharArray = ListCharArrayParser(ParamsClientListChar)\n",
    "\n",
    "### RUN UP TO HERE (INCLUDED) TO INITIALIZE CONNECTIONS AND THREAD QtransportLayerAgentH thread #####\n",
    "# At this point, in this order, the node in the server has been initialized, the node in the client, the server host (up to this equivalent point) and then the client host (up to here)\n",
    "# Create instance of Agent below\n",
    "QPLAagent = QpresentationLayerAgent.QPLA(ParamsDescendingCharArray,ParamsAscendingCharArray)\n",
    "### Initiate thread process in QtransportLayerAgentH\n",
    "QPLAagent.InitAgentProcess() # Initialize the thread in QtransportLayerAgentH"
   ]
  },
  {
   "cell_type": "code",
   "execution_count": null,
   "metadata": {},
   "outputs": [],
   "source": [
    "#####################\n",
    "# Some tests to send information to the different elements and see them output at the respective console\n",
    "# The required fields of a message are (separated by commas): IPdestination,IPorigin,Type,Command,Payload\n",
    "messagePayloadAux=\"Host client sends information to attached node\"\n",
    "messageCommandAux=\"print\"\n",
    "messageTypeAux=\"Info\"\n",
    "messageIPorg=IPhostClientOpNet\n",
    "messageIPdest=IPnodeClientConNet\n",
    "messageAuxChar = ListCharArrayParser([messageIPdest,messageIPorg,messageTypeAux,messageCommandAux,messagePayloadAux])\n",
    "QPLAagent.SendMessageAgent(messageAuxChar)\n",
    "\n",
    "messagePayloadAux=\"Host client sends information to server host\"\n",
    "messageCommandAux=\"print\"\n",
    "messageTypeAux=\"Info\"\n",
    "messageIPorg=IPhostClientOpNet\n",
    "messageIPdest=IPhostServerOpNet\n",
    "messageAuxChar = ListCharArrayParser([messageIPdest,messageIPorg,messageTypeAux,messageCommandAux,messagePayloadAux])\n",
    "QPLAagent.SendMessageAgent(messageAuxChar)\n",
    "\n",
    "messagePayloadAux=\"Host client sends information to host server node\"\n",
    "messageCommandAux=\"print\"\n",
    "messageTypeAux=\"Control\"\n",
    "messageIPorg=IPhostClientOpNet\n",
    "messageIPdest=IPhostServerOpNet # Notice that it is send to the host (which it will forward it to the node)\n",
    "messageAuxChar = ListCharArrayParser([messageIPdest,messageIPorg,messageTypeAux,messageCommandAux,messagePayloadAux])\n",
    "QPLAagent.SendMessageAgent(messageAuxChar)\n"
   ]
  },
  {
   "cell_type": "code",
   "execution_count": 3,
   "metadata": {
    "scrolled": false
   },
   "outputs": [
    {
     "name": "stdout",
     "output_type": "stream",
     "text": [
      "NumStoredQubitsNode[0]: 1917\n"
     ]
    }
   ],
   "source": [
    "#### Some test to request QuBits from the other host #################\n",
    "QPLAagent.RequestQubitsHost(IPhostServerOpNet,IPhostClientOpNet,IPnodeClientConNet,IPhostClientOpNet,128) # Request that host's node sends qubits to this host's node\n",
    "NumStoredQubitsNode = np.zeros(1, dtype=np.intc)# np.array([0], dtype=np.intc)\n",
    "QPLAagent.RetrieveNumStoredQubitsNode(NumStoredQubitsNode) # Supposing that node has received quBits, return number of QuBits\n",
    "print('NumStoredQubitsNode[0]: '+str(NumStoredQubitsNode[0]))"
   ]
  },
  {
   "cell_type": "code",
   "execution_count": 4,
   "metadata": {},
   "outputs": [
    {
     "name": "stdout",
     "output_type": "stream",
     "text": [
      "ListNumStoredQubitsNode: [1855, 1957, 1936, 1953, 1921, 1944, 1965, 1860, 1878, 1878, 1953, 113, 1806, 1947, 1971, 1947, 1896, 1732, 1958, 1906, 1785, 1902, 32, 1958, 1802, 1972, 1948, 1955, 1935, 1960, 1829, 1960, 1866, 1932, 1960, 1954, 1954, 1877, 1949, 1970, 1976, 1864, 1977, 1948, 1767, 1955, 1959, 1826, 1931, 1897, 1915, 1953, 1971, 1898, 1977, 1807, 1899, 1955, 1960, 1957, 1973, 1952, 1967, 1955, 1953, 1945, 1947, 1836, 1838, 1965, 1977, 1928, 1940, 1946, 1966, 1870, 1972, 1952, 1917, 1979, 1822, 1946, 1957, 1958, 1833, 1961, 1924, 1958, 1825, 1936, 1817, 1954, 1964, 1963, 1945, 1815, 1811, 1843, 1978, 1961, 1946, 1975, 1970, 1967, 1940, 1965, 1901, 1879, 1879, 1963, 1963, 1929, 1958, 1838, 1953, 1975, 1944, 1956, 1937, 1869, 1975, 1974, 1931, 1902, 1978, 1960, 1957, 1765, 1954, 1937, 1943, 1817, 1955, 1973, 1972, 1800, 1836, 1947, 1966, 1962, 1863, 1843, 1946, 1984, 1967, 1990, 1948, 1959, 1975, 1942, 1961, 1957, 1895, 1937, 1871, 1794, 1928, 1876, 1964, 1819, 1781, 1874, 1973, 1884, 1968, 1970, 1870, 1947, 1949, 1969, 1954, 1858, 1904, 1848, 1972, 1949, 1987, 1842, 1961, 1973, 1875, 1896, 1934, 1871, 1846, 1957, 1980, 1847, 1977, 1926, 1977, 1953, 1820, 1958, 1957, 1987, 1987, 1968, 1906, 1957, 1967, 1942, 1793, 1906, 1963, 1929, 1976, 1898, 1927, 1979, 1992, 1980, 1917, 1776, 1959, 1913, 1972, 1960, 1974, 1849, 1980, 1864, 1960, 1969, 1946, 1952, 1843, 1932, 1951, 1973, 1963, 1942, 31, 1967, 1964, 1956, 1983, 1912, 1957, 1922, 1965, 1917, 1949, 1962, 1956, 1963, 1947, 1947, 1947, 1884, 1968, 1964, 1847, 1962, 1978, 1895, 1919, 1951, 1941, 1942, 1939, 1967, 1957, 1957, 1900, 1986, 1933, 1972, 1944, 1962, 1874, 1826, 1933, 1984, 1967, 1890, 1877, 1974, 1948, 1825, 1804, 1943, 1989, 1824, 1890, 1957, 1960, 1898, 1884, 1772, 1945, 1974, 1949, 1915, 1857, 1966, 1966, 1959, 1971, 1959, 1976, 1874, 1970, 1970, 1823, 1884, 1969, 1933, 1822, 1956, 1802, 1933, 1975, 1866, 1862, 1962, 1778, 1966, 1955, 1960, 1951, 1947, 1970, 1918, 1979, 1941, 1897, 1970, 1961, 1981, 1961, 1940, 1843, 1922, 1963, 1871, 1952, 1989, 1974, 1974, 1945, 1863, 1979, 1973, 1831, 1954, 1968, 1969, 1969, 1935, 1918, 1966, 1833, 1902, 1957, 1806, 1778, 1836, 1979, 1934, 1934, 1868, 1955, 1968, 1954, 1901, 1944, 1981, 1873, 1981, 1979, 1954, 1883, 1977, 1853, 1961, 1971, 1979, 1836, 1928, 1980, 1950, 1951, 1883, 1800, 1939, 1962, 1907, 1954, 1976, 1798, 1968, 1968, 1983, 1960, 1960, 1955, 22, 1783, 1959, 1955, 1970, 1913, 1868, 1972, 76, 76, 1974, 1949, 1876, 1962, 1812, 1967, 1917, 1848, 1987, 1951, 1809, 1931, 1931, 1931, 1948, 1971, 1802, 1802, 1865, 1967, 1976, 1849, 1967, 1972, 1946, 1971, 1968, 1972, 1962, 1884, 1975, 1961, 1918, 1849, 1902, 1878, 1966, 1982, 1966, 1964, 1951, 1966, 1946, 1961, 1970, 1935, 1940, 1961, 1948, 1965, 1965, 1954, 1888, 1910, 1950, 1965, 1957, 1963, 1959, 1856, 1963, 1958, 1946, 1954, 1941, 1955, 1945, 1953, 1977, 1819, 1799, 1809, 1852, 1984, 1882, 1961, 1970, 1822, 1942, 1849, 1965, 1954, 1969, 1980, 1909, 1781, 1946, 1861, 1952, 1934, 1784, 1925, 1887, 1937, 1963, 1963, 1955, 1908, 1945, 1832, 1868, 1818, 1900, 1960, 1930, 1888, 1961, 1974, 1962, 1867, 1877, 1869, 1954, 1885, 1965]\n"
     ]
    }
   ],
   "source": [
    "###### Hard resilience test #######\n",
    "import random\n",
    "import time\n",
    "NumTestMax = 1000\n",
    "ListNumStoredQubitsNode=[]\n",
    "for iIterTest in range(0,NumTestMax,1):\n",
    "    RandomTestNum=random.randint(0, 1)\n",
    "    if (RandomTestNum==0):\n",
    "        # Sending messages\n",
    "        messagePayloadAux=\"Host client sends information to attached node\"\n",
    "        messageCommandAux=\"print\"\n",
    "        messageTypeAux=\"Info\"\n",
    "        messageIPorg=IPhostClientOpNet\n",
    "        messageIPdest=IPnodeClientConNet\n",
    "        messageAuxChar = ListCharArrayParser([messageIPdest,messageIPorg,messageTypeAux,messageCommandAux,messagePayloadAux])\n",
    "        QPLAagent.SendMessageAgent(messageAuxChar)\n",
    "        time.sleep(0.1)\n",
    "        messagePayloadAux=\"Host client sends information to server host\"\n",
    "        messageCommandAux=\"print\"\n",
    "        messageTypeAux=\"Info\"\n",
    "        messageIPorg=IPhostClientOpNet\n",
    "        messageIPdest=IPhostServerOpNet\n",
    "        messageAuxChar = ListCharArrayParser([messageIPdest,messageIPorg,messageTypeAux,messageCommandAux,messagePayloadAux])\n",
    "        QPLAagent.SendMessageAgent(messageAuxChar)\n",
    "        time.sleep(0.1)\n",
    "        messagePayloadAux=\"Host client sends information to host server node\"\n",
    "        messageCommandAux=\"print\"\n",
    "        messageTypeAux=\"Control\"\n",
    "        messageIPorg=IPhostClientOpNet\n",
    "        messageIPdest=IPhostServerOpNet # Notice that it is send to the host (which it will forward it to the node)\n",
    "        messageAuxChar = ListCharArrayParser([messageIPdest,messageIPorg,messageTypeAux,messageCommandAux,messagePayloadAux])\n",
    "        QPLAagent.SendMessageAgent(messageAuxChar)\n",
    "    else:\n",
    "        # Sending request\n",
    "        QPLAagent.RequestQubitsHost(IPhostServerOpNet,IPhostClientOpNet,IPnodeClientConNet,IPhostClientOpNet,128) # Request that host's node sends qubits to this host's node\n",
    "        NumStoredQubitsNode = np.zeros(1, dtype=np.intc)# np.array([0], dtype=np.intc)\n",
    "        QPLAagent.RetrieveNumStoredQubitsNode(NumStoredQubitsNode) # Supposing that node has received quBits, return number of QuBits\n",
    "        ListNumStoredQubitsNode.append(NumStoredQubitsNode[0])\n",
    "    time.sleep(25.0)\n",
    "    time.sleep(int(25.0*random.uniform(0,1)))\n",
    "print('ListNumStoredQubitsNode: '+str(ListNumStoredQubitsNode))"
   ]
  },
  {
   "cell_type": "code",
   "execution_count": 7,
   "metadata": {},
   "outputs": [],
   "source": [
    "# Save generated data\n",
    "#print(os.getcwd())\n",
    "ExtraDetailString='PTP'#'NoPTP'\n",
    "np.save(pathScriptData+'ClientListNumStoredQubitsNode'+ExtraDetailString,ListNumStoredQubitsNode)"
   ]
  },
  {
   "cell_type": "code",
   "execution_count": 8,
   "metadata": {},
   "outputs": [
    {
     "data": {
      "image/png": "[encoded data removed]",
      "text/plain": [
       "<Figure size 432x288 with 1 Axes>"
      ]
     },
     "metadata": {
      "needs_background": "light"
     },
     "output_type": "display_data"
    }
   ],
   "source": [
    "# Plot ListNumStoredQubitsNode data\n",
    "ExtraDetailString='PTP'#'NoPTP'\n",
    "ListNumStoredQubitsNode=np.load(pathScriptData+'ClientListNumStoredQubitsNode'+ExtraDetailString+'.npy')\n",
    "plt.figure()#figsize=(8.0, 4.0))\n",
    "ax = plt.gca()\n",
    "plt.hist(ListNumStoredQubitsNode,bins=np.arange(0,2049,32))\n",
    "plt.xlabel('QuBits')\n",
    "plt.ylabel('hist.')\n",
    "#plt.title('Antenna Throughput Comparison')\n",
    "#plt.ylim(0, max(throughput_values) + 10)  # Adjust the y-axis limit for better visualization\n",
    "plt.tight_layout()\n",
    "#plt.savefig(pathScriptData+'TheorLOSvsNLOS.pdf', bbox_inches='tight', format = 'pdf', dpi = 300 )#dpi = 600 )\n",
    "plt.show()"
   ]
  },
  {
   "cell_type": "code",
   "execution_count": null,
   "metadata": {},
   "outputs": [],
   "source": []
  }
 ],
 "metadata": {
  "kernelspec": {
   "display_name": "Python 3",
   "language": "python",
   "name": "python3"
  },
  "language_info": {
   "codemirror_mode": {
    "name": "ipython",
    "version": 3
   },
   "file_extension": ".py",
   "mimetype": "text/x-python",
   "name": "python",
   "nbconvert_exporter": "python",
   "pygments_lexer": "ipython3",
   "version": "3.7.3"
  }
 },
 "nbformat": 4,
 "nbformat_minor": 5
}
