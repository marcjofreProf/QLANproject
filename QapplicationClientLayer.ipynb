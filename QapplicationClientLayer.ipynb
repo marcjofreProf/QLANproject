{
 "cells": [
  {
   "cell_type": "code",
   "execution_count": 1,
   "metadata": {},
   "outputs": [],
   "source": [
    "#####################################################\n",
    "# Author: Marc Jofre\n",
    "# Script Quantum LAN application Client layer\n",
    "#####################################################\n",
    "import sys, os\n",
    "\n",
    "pathScriptBelowAgentScript='./CppScripts/'\n",
    "sys.path.append(pathScriptBelowAgentScript)\n",
    "pathScriptBelowAgentScript='./JupyterPythonScripts/'\n",
    "sys.path.append(pathScriptBelowAgentScript)\n",
    "\n",
    "import QpresentationLayerAgent\n",
    "#####################################################\n",
    "# Parameters\n",
    "## Network\n",
    "IPnodeServerConNet = \"192.168.8.2\" # IP address of the server node (connected to the client host) in the control/configuration network\n",
    "IPhostServerOpNet = \"10.0.0.3\" # IP address of the server host in the operation network\n",
    "\n",
    "ParamsClientListChar = [IPnodeServerConNet,IPhostServerOpNet,\"client\"]"
   ]
  },
  {
   "cell_type": "code",
   "execution_count": 2,
   "metadata": {},
   "outputs": [],
   "source": [
    "##############################################################\n",
    "# Functions\n",
    "def ListCharArrayParser(ListCharArrayAux):\n",
    "    # Actually concatenating a python list of strings to a single string\n",
    "    ParsedCharArrayAux=\",\".join(ListCharArrayAux)\n",
    "    return ParsedCharArrayAux"
   ]
  },
  {
   "cell_type": "code",
   "execution_count": 3,
   "metadata": {},
   "outputs": [],
   "source": [
    "# Create instance of Agent below\n",
    "QPLAagent = QpresentationLayerAgent.QPLA()"
   ]
  },
  {
   "cell_type": "code",
   "execution_count": 4,
   "metadata": {},
   "outputs": [],
   "source": [
    "# The parameters passed and received from agents are structured\n",
    "ParamsAscendingCharArray = \"none\"\n",
    "ParamsDescendingCharArray = ListCharArrayParser(ParamsClientListChar)"
   ]
  },
  {
   "cell_type": "code",
   "execution_count": 5,
   "metadata": {},
   "outputs": [],
   "source": [
    "QPLAagent.InitAgent(ParamsDescendingCharArray,ParamsAscendingCharArray) # Initialize the below Agent"
   ]
  },
  {
   "cell_type": "code",
   "execution_count": 6,
   "metadata": {},
   "outputs": [],
   "source": [
    "### RUN UP TO HERE TO INITIALIZE CONNECTIONS ##############\n",
    "# At this point, in this order the node in the server has been initialized, the node in the client, the server host (up to this equivalent point) and then the client host (up to here)"
   ]
  },
  {
   "cell_type": "code",
   "execution_count": 7,
   "metadata": {},
   "outputs": [],
   "source": [
    "### RUN UP TO HERE TO INITIALIZE THREAD QtransportLayerAgentH thread #####\n",
    "### Initiate thread process in QtransportLayerAgentH\n",
    "QPLAagent.InitAgentProcess() # Initialize the thread in QtransportLayerAgentH"
   ]
  },
  {
   "cell_type": "code",
   "execution_count": 8,
   "metadata": {},
   "outputs": [],
   "source": [
    "#####################\n",
    "# Some tests to send information to the different elements\n",
    "messagePayloadAux=\"Host client sends information to attached node\"\n",
    "messageAuxChar = ListCharArrayParser([IPnodeServerConNet,messagePayloadAux])\n",
    "QPLAagent.SendMessageAgent(messageAuxChar)\n",
    "messagePayloadAux=\"Host client sends information to server host\"\n",
    "messageAuxChar = ListCharArrayParser([IPhostServerOpNet,messagePayloadAux])\n",
    "QPLAagent.SendMessageAgent(messageAuxChar)\n",
    "#messagePayloadAux=\"Host client sends information to server host attached node\"\n",
    "#messageAuxChar = ListCharArrayParser([IPnodeServerConNet,messagePayloadAux])\n",
    "#QPLAagent.SendMessageAgent(messageAuxChar)\n",
    "#messagePayloadAux=\"Node client sends information to node host\"\n",
    "#messageAuxChar = ListCharArrayParser([IPnodeServerConNet,messagePayloadAux])\n",
    "#QPLAagent.SendMessageAgent(messageAuxChar)\n",
    "#messagePayloadAux=\"Host client sends information to host client process\"\n",
    "#messageAuxChar = ListCharArrayParser([IPnodeServerConNet,messagePayloadAux])\n",
    "#QPLAagent.SendMessageAgent(messageAuxChar)"
   ]
  },
  {
   "cell_type": "code",
   "execution_count": null,
   "metadata": {},
   "outputs": [],
   "source": []
  }
 ],
 "metadata": {
  "kernelspec": {
   "display_name": "Python 3",
   "language": "python",
   "name": "python3"
  },
  "language_info": {
   "codemirror_mode": {
    "name": "ipython",
    "version": 3
   },
   "file_extension": ".py",
   "mimetype": "text/x-python",
   "name": "python",
   "nbconvert_exporter": "python",
   "pygments_lexer": "ipython3",
   "version": "3.7.3"
  }
 },
 "nbformat": 4,
 "nbformat_minor": 5
}
