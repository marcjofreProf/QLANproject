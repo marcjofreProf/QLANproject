{
 "cells": [
  {
   "cell_type": "code",
   "execution_count": 1,
   "metadata": {},
   "outputs": [],
   "source": [
    "#####################################################\n",
    "# Author: Prof. Marc Jofre\n",
    "# Dept. Network Engineering\n",
    "# Universitat Politècnica de Catalunya - Technical University of Catalonia\n",
    "#\n",
    "# Modified: 2024\n",
    "# Created: 2024\n",
    "#\n",
    "# Script Quantum LAN application Client layer\n",
    "#####################################################\n",
    "import sys, os\n",
    "# print(\"Python version:\", sys.version)\n",
    "# !pip install numpy\n",
    "import numpy as np\n",
    "#!pip install --upgrade pip\n",
    "#!pip install --upgrade pillow\n",
    "#!pip install matplotlib\n",
    "import matplotlib.pyplot as plt\n",
    "import matplotlib as mpl\n",
    "#from google.colab import files\n",
    "#print(plt.style.available)\n",
    "mpl.style.use('default')\n",
    "import time\n",
    "\n",
    "pathScriptBelowAgentScript='./CppScripts/'\n",
    "sys.path.append(pathScriptBelowAgentScript)\n",
    "pathScriptBelowAgentScript='./JupyterPythonScripts/'\n",
    "sys.path.append(pathScriptBelowAgentScript)\n",
    "\n",
    "import QpresentationLayerAgent\n",
    "#####################################################\n",
    "# Parameters\n",
    "## Network\n",
    "IPhostClientOpNet = \"10.0.0.1\" # IP address of the client host (this host) in the operation network\n",
    "IPhostClientConNet = \"192.168.8.1\" # IP address of the client host (this host) in the contro/configuration network\n",
    "IPnodeClientConNet = \"192.168.8.2\" # IP address of the client node (connected to the client host) in the control/configuration network\n",
    "IPhostServerOpNet = \"127.0.0.1\"#10.0.0.3\" # IP address of the server host in the operation network\n",
    "IPnodeServerConNet = \"192.168.9.2\" # IP address of the server node in the control/configuration network\n",
    "\n",
    "ParamsClientListChar = [IPnodeClientConNet,IPhostServerOpNet,IPhostClientOpNet,IPhostClientConNet,\"client\"]\n",
    "\n",
    "##############################################################\n",
    "# Functions\n",
    "def ListCharArrayParser(ListCharArrayAux):\n",
    "    # Actually concatenating a python list of strings to a single string\n",
    "    ParsedCharArrayAux=\",\".join(ListCharArrayAux)+\",\"\n",
    "    return ParsedCharArrayAux\n",
    "\n",
    "# The parameters passed and received from agents are structured\n",
    "ParamsAscendingCharArray = \"none\"\n",
    "ParamsDescendingCharArray = ListCharArrayParser(ParamsClientListChar)\n",
    "\n",
    "### RUN UP TO HERE (INCLUDED) TO INITIALIZE CONNECTIONS AND THREAD QtransportLayerAgentH thread #####\n",
    "# At this point, in this order, the node in the server has been initialized, the node in the client, the server host (up to this equivalent point) and then the client host (up to here)\n",
    "# Create instance of Agent below\n",
    "QPLAagent = QpresentationLayerAgent.QPLA(ParamsDescendingCharArray,ParamsAscendingCharArray)\n",
    "### Initiate thread process in QtransportLayerAgentH\n",
    "QPLAagent.InitAgentProcess() # Initialize the thread in QtransportLayerAgentH"
   ]
  },
  {
   "cell_type": "code",
   "execution_count": null,
   "metadata": {},
   "outputs": [],
   "source": [
    "#####################\n",
    "# Some tests to send information to the different elements and see them output at the respective console\n",
    "# The required fields of a message are (separated by commas): IPdestination,IPorigin,Type,Command,Payload\n",
    "messagePayloadAux=\"Host client sends information to attached node\"\n",
    "messageCommandAux=\"print\"\n",
    "messageTypeAux=\"Info\"\n",
    "messageIPorg=IPhostClientOpNet\n",
    "messageIPdest=IPnodeClientConNet\n",
    "messageAuxChar = ListCharArrayParser([messageIPdest,messageIPorg,messageTypeAux,messageCommandAux,messagePayloadAux])\n",
    "QPLAagent.SendMessageAgent(messageAuxChar)\n",
    "\n",
    "messagePayloadAux=\"Host client sends information to server host\"\n",
    "messageCommandAux=\"print\"\n",
    "messageTypeAux=\"Info\"\n",
    "messageIPorg=IPhostClientOpNet\n",
    "messageIPdest=IPhostServerOpNet\n",
    "messageAuxChar = ListCharArrayParser([messageIPdest,messageIPorg,messageTypeAux,messageCommandAux,messagePayloadAux])\n",
    "QPLAagent.SendMessageAgent(messageAuxChar)\n",
    "\n",
    "messagePayloadAux=\"Host client sends information to host server node\"\n",
    "messageCommandAux=\"print\"\n",
    "messageTypeAux=\"Control\"\n",
    "messageIPorg=IPhostClientOpNet\n",
    "messageIPdest=IPhostServerOpNet # Notice that it is send to the host (which it will forward it to the node)\n",
    "messageAuxChar = ListCharArrayParser([messageIPdest,messageIPorg,messageTypeAux,messageCommandAux,messagePayloadAux])\n",
    "QPLAagent.SendMessageAgent(messageAuxChar)\n"
   ]
  },
  {
   "cell_type": "code",
   "execution_count": 2,
   "metadata": {
    "scrolled": false
   },
   "outputs": [
    {
     "name": "stdout",
     "output_type": "stream",
     "text": [
      "NumStoredQubitsNode[0]: 2020\n"
     ]
    }
   ],
   "source": [
    "#### Some test to request QuBits from the other host #################\n",
    "QPLAagent.RequestQubitsHost(IPhostServerOpNet,IPhostClientOpNet,IPnodeClientConNet,IPhostClientOpNet,128) # Request that host's node sends qubits to this host's node\n",
    "NumStoredQubitsNode = np.zeros(1, dtype=np.intc)# np.array([0], dtype=np.intc)\n",
    "QPLAagent.RetrieveNumStoredQubitsNode(NumStoredQubitsNode) # Supposing that node has received quBits, return number of QuBits\n",
    "print('NumStoredQubitsNode[0]: '+str(NumStoredQubitsNode[0]))"
   ]
  },
  {
   "cell_type": "code",
   "execution_count": 3,
   "metadata": {},
   "outputs": [
    {
     "name": "stdout",
     "output_type": "stream",
     "text": [
      "ListNumStoredQubitsNode: [2012, 2010, 1990, 2006, 2015, 2005, 1999, 2017, 2002, 2014, 2001, 1995, 2015, 2000, 2022, 2002, 2014, 1968, 2022, 2014, 2029, 2022, 2015, 2021, 2024, 2018, 2018, 1995, 2022, 2014, 2022, 2008, 2019, 2005, 2012, 2020, 2009, 2009, 2025, 2018, 2028, 2016, 2020, 2015, 2011, 2003, 2002]\n"
     ]
    }
   ],
   "source": [
    "###### Hard resilience test #######\n",
    "import random\n",
    "import time\n",
    "NumTestMax = 1000\n",
    "ListNumStoredQubitsNode=[]\n",
    "for iIterTest in range(0,NumTestMax,1):\n",
    "    RandomTestNum=random.randint(0, 1)\n",
    "    if (RandomTestNum==0):\n",
    "        # Sending messages\n",
    "        messagePayloadAux=\"Host client sends information to attached node\"\n",
    "        messageCommandAux=\"print\"\n",
    "        messageTypeAux=\"Info\"\n",
    "        messageIPorg=IPhostClientOpNet\n",
    "        messageIPdest=IPnodeClientConNet\n",
    "        messageAuxChar = ListCharArrayParser([messageIPdest,messageIPorg,messageTypeAux,messageCommandAux,messagePayloadAux])\n",
    "        QPLAagent.SendMessageAgent(messageAuxChar)\n",
    "        time.sleep(0.1)\n",
    "        messagePayloadAux=\"Host client sends information to server host\"\n",
    "        messageCommandAux=\"print\"\n",
    "        messageTypeAux=\"Info\"\n",
    "        messageIPorg=IPhostClientOpNet\n",
    "        messageIPdest=IPhostServerOpNet\n",
    "        messageAuxChar = ListCharArrayParser([messageIPdest,messageIPorg,messageTypeAux,messageCommandAux,messagePayloadAux])\n",
    "        QPLAagent.SendMessageAgent(messageAuxChar)\n",
    "        time.sleep(0.1)\n",
    "        messagePayloadAux=\"Host client sends information to host server node\"\n",
    "        messageCommandAux=\"print\"\n",
    "        messageTypeAux=\"Control\"\n",
    "        messageIPorg=IPhostClientOpNet\n",
    "        messageIPdest=IPhostServerOpNet # Notice that it is send to the host (which it will forward it to the node)\n",
    "        messageAuxChar = ListCharArrayParser([messageIPdest,messageIPorg,messageTypeAux,messageCommandAux,messagePayloadAux])\n",
    "        QPLAagent.SendMessageAgent(messageAuxChar)\n",
    "    else:\n",
    "        # Sending request\n",
    "        QPLAagent.RequestQubitsHost(IPhostServerOpNet,IPhostClientOpNet,IPnodeClientConNet,IPhostClientOpNet,128) # Request that host's node sends qubits to this host's node\n",
    "        NumStoredQubitsNode = np.zeros(1, dtype=np.intc)# np.array([0], dtype=np.intc)\n",
    "        QPLAagent.RetrieveNumStoredQubitsNode(NumStoredQubitsNode) # Supposing that node has received quBits, return number of QuBits\n",
    "        ListNumStoredQubitsNode.append(NumStoredQubitsNode[0])\n",
    "    time.sleep(25.0)\n",
    "    time.sleep(int(25.0*random.uniform(0,1)))\n",
    "print('ListNumStoredQubitsNode: '+str(ListNumStoredQubitsNode))"
   ]
  },
  {
   "cell_type": "code",
   "execution_count": 4,
   "metadata": {},
   "outputs": [
    {
     "data": {
      "image/png": "[encoded data removed]",
      "text/plain": [
       "<Figure size 432x288 with 1 Axes>"
      ]
     },
     "metadata": {
      "needs_background": "light"
     },
     "output_type": "display_data"
    }
   ],
   "source": [
    "plt.figure()#figsize=(8.0, 4.0))\n",
    "ax = plt.gca()\n",
    "plt.hist(ListNumStoredQubitsNode,bins=np.arange(0,2049,32))\n",
    "plt.xlabel('QuBits')\n",
    "plt.ylabel('hist.')\n",
    "#plt.title('Antenna Throughput Comparison')\n",
    "#plt.ylim(0, max(throughput_values) + 10)  # Adjust the y-axis limit for better visualization\n",
    "plt.tight_layout()\n",
    "#plt.savefig(pathScriptData+'TheorLOSvsNLOS.pdf', bbox_inches='tight', format = 'pdf', dpi = 300 )#dpi = 600 )\n",
    "plt.show()"
   ]
  },
  {
   "cell_type": "code",
   "execution_count": null,
   "metadata": {},
   "outputs": [],
   "source": []
  }
 ],
 "metadata": {
  "kernelspec": {
   "display_name": "Python 3",
   "language": "python",
   "name": "python3"
  },
  "language_info": {
   "codemirror_mode": {
    "name": "ipython",
    "version": 3
   },
   "file_extension": ".py",
   "mimetype": "text/x-python",
   "name": "python",
   "nbconvert_exporter": "python",
   "pygments_lexer": "ipython3",
   "version": "3.7.3"
  }
 },
 "nbformat": 4,
 "nbformat_minor": 5
}
