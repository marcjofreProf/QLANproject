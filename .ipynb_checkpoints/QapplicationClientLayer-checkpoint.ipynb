{
 "cells": [
  {
   "cell_type": "code",
   "execution_count": 1,
   "metadata": {},
   "outputs": [],
   "source": [
    "#####################################################\n",
    "# Author: Prof. Marc Jofre\n",
    "# Dept. Network Engineering\n",
    "# Universitat Politècnica de Catalunya - Technical University of Catalonia\n",
    "#\n",
    "# Modified: 2024\n",
    "# Created: 2024\n",
    "#\n",
    "# Script Quantum LAN application Client layer\n",
    "#####################################################\n",
    "from IPython.core.display import HTML\n",
    "HTML(\"<script>Jupyter.notebook.kernel.restart()</script>\") # Restart the kernel to clean up previous\n",
    "#####################################################\n",
    "import sys, os, signal\n",
    "# print(\"Python version:\", sys.version)\n",
    "#!pip install --upgrade pip\n",
    "#!pip install --upgrade pillow\n",
    "#!pip install matplotlib\n",
    "#!pip install numpy\n",
    "import numpy as np\n",
    "import matplotlib.pyplot as plt\n",
    "import matplotlib as mpl\n",
    "#from google.colab import files\n",
    "#print(plt.style.available)\n",
    "mpl.style.use('default')\n",
    "import time\n",
    "\n",
    "pathScriptBelowAgentScript='./CppScripts/'\n",
    "sys.path.append(pathScriptBelowAgentScript)\n",
    "pathScriptBelowAgentScript='./JupyterPythonScripts/'\n",
    "sys.path.append(pathScriptBelowAgentScript)\n",
    "pathScriptData='../../GeneratedDataPythonJupyter/'"
   ]
  },
  {
   "cell_type": "code",
   "execution_count": 2,
   "metadata": {},
   "outputs": [],
   "source": [
    "import QpresentationLayerAgent\n",
    "#####################################################\n",
    "# Parameters\n",
    "## Network\n",
    "IPhostClientOpNet = \"127.0.0.1\"#\"10.0.0.1\" # IP address of the client host (this host) in the operation network\n",
    "IPhostClientConNet = \"192.168.8.1\" # IP address of the client host (this host) in the contro/configuration network\n",
    "IPnodeClientConNet = \"192.168.8.2\" # IP address of the client node (connected to the client host) in the control/configuration network\n",
    "IPhostServerOpNet = \"127.0.0.2\"#10.0.0.3\" # IP address of the server host in the operation network\n",
    "IPnodeServerConNet = \"192.168.9.2\" # IP address of the server node in the control/configuration network\n",
    "IPhostDealerOpNet = \"127.0.0.3\"#10.0.0.4\" # IP address of the dealer host in the operation network\n",
    "IPnodeDealerConNet = \"192.168.10.2\" # IP address of the dealer node in the control/configuration network\n",
    "\n",
    "ParamsClientListChar = [\"client\",IPnodeClientConNet,IPhostClientConNet,IPhostClientOpNet,IPhostServerOpNet,IPhostDealerOpNet]\n",
    "\n",
    "##############################################################\n",
    "# Functions\n",
    "def ListCharArrayParser(ListCharArrayAux):\n",
    "    # Actually concatenating a python list of strings to a single string\n",
    "    ParsedCharArrayAux=\",\".join(ListCharArrayAux)+\",\"\n",
    "    return ParsedCharArrayAux\n",
    "\n",
    "# The parameters passed and received from agents are structured\n",
    "ParamsAscendingCharArray = \"none\"\n",
    "ParamsDescendingCharArray = ListCharArrayParser(ParamsClientListChar)\n",
    "\n",
    "### RUN UP TO HERE (INCLUDED) TO INITIALIZE CONNECTIONS AND THREAD QtransportLayerAgentH thread #####\n",
    "# At this point, in this order, the node in the server has been initialized, the node in the client, the server host (up to this equivalent point) and then the client host (up to here)\n",
    "# Create instance of Agent below\n",
    "QPLAagent = QpresentationLayerAgent.QPLA(ParamsDescendingCharArray,ParamsAscendingCharArray)\n",
    "def signal_handler(signal_received,frame):\n",
    "    print(f'Signal {signal_received} received, exiting gracefully.')\n",
    "    # Perform any cleanup here\n",
    "    del QPLAagent\n",
    "    sys.exit(0)\n",
    "\n",
    "# Set up signal handlers\n",
    "signal.signal(signal.SIGINT, signal_handler)  # Handle Ctrl+C\n",
    "signal.signal(signal.SIGPIPE, signal_handler) # Handle broken pipe errors\n",
    "#signal.signal(signal.SIGSEGV, signal_handler) # Handle segmentation faults (typically memory errors)\n",
    "signal.signal(signal.SIGHUP, signal_handler) # Handle when terminal window is closed\n",
    "signal.signal(signal.SIGTERM, signal_handler) # Termination request\n",
    "\n",
    "### Initiate thread process in QtransportLayerAgentH\n",
    "QPLAagent.InitAgentProcess() # Initialize the thread in QtransportLayerAgentH"
   ]
  },
  {
   "cell_type": "code",
   "execution_count": null,
   "metadata": {},
   "outputs": [],
   "source": [
    "#####################\n",
    "# Some tests to send information to the different elements and see them output at the respective console\n",
    "# The required fields of a message are (separated by commas): IPdestination,IPorigin,Type,Command,Payload\n",
    "messagePayloadAux=\"Host client sends information to attached node\"\n",
    "messageCommandAux=\"print\"\n",
    "messageTypeAux=\"Control\"\n",
    "messageIPorg=IPhostClientOpNet\n",
    "messageIPdest=IPnodeClientConNet\n",
    "messageAuxChar = ListCharArrayParser([messageIPdest,messageIPorg,messageTypeAux,messageCommandAux,messagePayloadAux])\n",
    "QPLAagent.SendMessageAgent(messageAuxChar)\n",
    "\n",
    "messagePayloadAux=\"Host client sends information to server host\"\n",
    "messageCommandAux=\"print\"\n",
    "messageTypeAux=\"Operation\"\n",
    "messageIPorg=IPhostClientOpNet\n",
    "messageIPdest=IPhostServerOpNet\n",
    "messageAuxChar = ListCharArrayParser([messageIPdest,messageIPorg,messageTypeAux,messageCommandAux,messagePayloadAux])\n",
    "QPLAagent.SendMessageAgent(messageAuxChar)\n",
    "\n",
    "messagePayloadAux=\"Host client sends information to host server node\"\n",
    "messageCommandAux=\"print\"\n",
    "messageTypeAux=\"Control\"\n",
    "messageIPorg=IPhostClientOpNet\n",
    "messageIPdest=IPhostServerOpNet # Notice that it is send to the host (which it will forward it to the node)\n",
    "messageAuxChar = ListCharArrayParser([messageIPdest,messageIPorg,messageTypeAux,messageCommandAux,messagePayloadAux])\n",
    "QPLAagent.SendMessageAgent(messageAuxChar)"
   ]
  },
  {
   "cell_type": "code",
   "execution_count": 291,
   "metadata": {
    "scrolled": false
   },
   "outputs": [
    {
     "name": "stdout",
     "output_type": "stream",
     "text": [
      "NumStoredQubitsNode[0]: 256\n",
      "StatisticsTimeTagDetStoredQubitsNode: [2.5600000e+02 0.0000000e+00 0.0000000e+00 0.0000000e+00 0.0000000e+00\n",
      " 0.0000000e+00 0.0000000e+00 1.9993297e+10]\n"
     ]
    }
   ],
   "source": [
    "#### Some test to request QuBits from the other host #################\n",
    "QPLAagent.SimulateRequestQubitsHost(IPhostServerOpNet,IPhostClientOpNet,IPnodeClientConNet,IPhostClientOpNet,128) # Request that host's node sends qubits to this host's node\n",
    "NumStoredQubitsNode = np.zeros(1, dtype=np.intc)# np.array([0], dtype=np.intc)\n",
    "StatisticsTimeTagDetStoredQubitsNode = np.zeros(8, dtype=np.double)# equivalnet to float64 for C like arrays\n",
    "QPLAagent.SimulateRetrieveNumStoredQubitsNode(IPnodeClientConNet,IPhostClientConNet,NumStoredQubitsNode,StatisticsTimeTagDetStoredQubitsNode) # Supposing that node has received quBits, return number of QuBits\n",
    "print('NumStoredQubitsNode[0]: '+str(NumStoredQubitsNode[0]))\n",
    "print('StatisticsTimeTagDetStoredQubitsNode: '+str(StatisticsTimeTagDetStoredQubitsNode))"
   ]
  },
  {
   "cell_type": "code",
   "execution_count": null,
   "metadata": {},
   "outputs": [],
   "source": [
    "###### Hard resilience test #######\n",
    "import random\n",
    "import time\n",
    "NumTestMax = 100\n",
    "ListNumStoredQubitsNode=[]\n",
    "ListStatisticsTimeTaggDetQubitsNodeParam0=[]\n",
    "ListStatisticsTimeTaggDetQubitsNodeParam1=[]\n",
    "ListStatisticsTimeTaggDetQubitsNodeParam2=[]\n",
    "ListStatisticsTimeTaggDetQubitsNodeParam3=[]\n",
    "ListStatisticsTimeTaggDetQubitsNodeParam4=[]\n",
    "ListStatisticsTimeTaggDetQubitsNodeParam5=[]\n",
    "ListStatisticsTimeTaggDetQubitsNodeParam6=[]\n",
    "ListStatisticsTimeTaggDetQubitsNodeParam7=[]\n",
    "for iIterTest in range(0,NumTestMax,1):\n",
    "    RandomTestNum=random.randint(0, 1)\n",
    "    if (RandomTestNum==0):\n",
    "        # Sending messages\n",
    "        messagePayloadAux=\"Host client sends information to attached node\"\n",
    "        messageCommandAux=\"print\"\n",
    "        messageTypeAux=\"Control\"\n",
    "        messageIPorg=IPhostClientOpNet\n",
    "        messageIPdest=IPnodeClientConNet\n",
    "        messageAuxChar = ListCharArrayParser([messageIPdest,messageIPorg,messageTypeAux,messageCommandAux,messagePayloadAux])\n",
    "        QPLAagent.SendMessageAgent(messageAuxChar)\n",
    "        time.sleep(0.1)\n",
    "        messagePayloadAux=\"Host client sends information to server host\"\n",
    "        messageCommandAux=\"print\"\n",
    "        messageTypeAux=\"Operation\"\n",
    "        messageIPorg=IPhostClientOpNet\n",
    "        messageIPdest=IPhostServerOpNet\n",
    "        messageAuxChar = ListCharArrayParser([messageIPdest,messageIPorg,messageTypeAux,messageCommandAux,messagePayloadAux])\n",
    "        QPLAagent.SendMessageAgent(messageAuxChar)\n",
    "        time.sleep(0.1)\n",
    "        messagePayloadAux=\"Host client sends information to host server node\"\n",
    "        messageCommandAux=\"print\"\n",
    "        messageTypeAux=\"Control\"\n",
    "        messageIPorg=IPhostClientOpNet\n",
    "        messageIPdest=IPhostServerOpNet # Notice that it is send to the host (which it will forward it to the node)\n",
    "        messageAuxChar = ListCharArrayParser([messageIPdest,messageIPorg,messageTypeAux,messageCommandAux,messagePayloadAux])\n",
    "        QPLAagent.SendMessageAgent(messageAuxChar)\n",
    "    else:\n",
    "        # Sending request\n",
    "        QPLAagent.SimulateRequestQubitsHost(IPhostServerOpNet,IPhostClientOpNet,IPnodeClientConNet,IPhostClientOpNet,128) # Request that host's node sends qubits to this host's node\n",
    "        NumStoredQubitsNode = np.zeros(1, dtype=np.intc)# np.array([0], dtype=np.intc)\n",
    "        StatisticsTimeTagDetStoredQubitsNode = np.zeros(8, dtype=np.double)# equivalnet to float64 for C like arrays\n",
    "        QPLAagent.SimulateRetrieveNumStoredQubitsNode(IPnodeClientConNet,IPhostClientConNet,NumStoredQubitsNode,StatisticsTimeTagDetStoredQubitsNode) # Supposing that node has received quBits, return number of QuBits\n",
    "        ListNumStoredQubitsNode.append(NumStoredQubitsNode[0])\n",
    "        ListStatisticsTimeTaggDetQubitsNodeParam0.append(StatisticsTimeTagDetStoredQubitsNode[0])\n",
    "        ListStatisticsTimeTaggDetQubitsNodeParam1.append(StatisticsTimeTagDetStoredQubitsNode[1])\n",
    "        ListStatisticsTimeTaggDetQubitsNodeParam2.append(StatisticsTimeTagDetStoredQubitsNode[2])\n",
    "        ListStatisticsTimeTaggDetQubitsNodeParam3.append(StatisticsTimeTagDetStoredQubitsNode[3])\n",
    "        ListStatisticsTimeTaggDetQubitsNodeParam4.append(StatisticsTimeTagDetStoredQubitsNode[4])\n",
    "        ListStatisticsTimeTaggDetQubitsNodeParam5.append(StatisticsTimeTagDetStoredQubitsNode[5])\n",
    "        ListStatisticsTimeTaggDetQubitsNodeParam6.append(StatisticsTimeTagDetStoredQubitsNode[6])\n",
    "        ListStatisticsTimeTaggDetQubitsNodeParam7.append(StatisticsTimeTagDetStoredQubitsNode[7])\n",
    "    time.sleep(15.0)\n",
    "    time.sleep(int(15.0*random.uniform(0,1)))\n",
    "print('ListNumStoredQubitsNode: '+str(ListNumStoredQubitsNode))\n",
    "print('ListStatisticsTimeTaggDetQubitsNodeParam0: '+str(ListStatisticsTimeTaggDetQubitsNodeParam0))\n",
    "print('ListStatisticsTimeTaggDetQubitsNodeParam1: '+str(ListStatisticsTimeTaggDetQubitsNodeParam1))\n",
    "print('ListStatisticsTimeTaggDetQubitsNodeParam2: '+str(ListStatisticsTimeTaggDetQubitsNodeParam2))\n",
    "print('ListStatisticsTimeTaggDetQubitsNodeParam3: '+str(ListStatisticsTimeTaggDetQubitsNodeParam3))\n",
    "print('ListStatisticsTimeTaggDetQubitsNodeParam4: '+str(ListStatisticsTimeTaggDetQubitsNodeParam4))\n",
    "print('ListStatisticsTimeTaggDetQubitsNodeParam5: '+str(ListStatisticsTimeTaggDetQubitsNodeParam5))\n",
    "print('ListStatisticsTimeTaggDetQubitsNodeParam6: '+str(ListStatisticsTimeTaggDetQubitsNodeParam6))\n",
    "print('ListStatisticsTimeTaggDetQubitsNodeParam7: '+str(ListStatisticsTimeTaggDetQubitsNodeParam7))"
   ]
  },
  {
   "cell_type": "code",
   "execution_count": null,
   "metadata": {},
   "outputs": [],
   "source": [
    "# Save generated data\n",
    "#print(os.getcwd())\n",
    "ExtraDetailString='PTP'#'NoPTP'#'NoPTP'\n",
    "np.save(pathScriptData+'ClientListNumStoredQubitsNode'+ExtraDetailString,ListNumStoredQubitsNode)\n",
    "np.save(pathScriptData+'ClientListNumStoredQubitsCh1Node'+ExtraDetailString,ListStatisticsTimeTaggDetQubitsNodeParam0)\n",
    "np.save(pathScriptData+'ClientListNumStoredQubitsCh2Node'+ExtraDetailString,ListStatisticsTimeTaggDetQubitsNodeParam1)\n",
    "np.save(pathScriptData+'ClientListNumStoredQubitsCh3Node'+ExtraDetailString,ListStatisticsTimeTaggDetQubitsNodeParam2)\n",
    "np.save(pathScriptData+'ClientListNumStoredQubitsCh4Node'+ExtraDetailString,ListStatisticsTimeTaggDetQubitsNodeParam3)\n",
    "np.save(pathScriptData+'ClientListNumStoredQubitsMultiNode'+ExtraDetailString,ListStatisticsTimeTaggDetQubitsNodeParam4)\n",
    "np.save(pathScriptData+'ClientListNumStoredQubitsTdiffAvgNode'+ExtraDetailString,ListStatisticsTimeTaggDetQubitsNodeParam5)\n",
    "np.save(pathScriptData+'ClientListNumStoredQubitsTdiffStdNode'+ExtraDetailString,ListStatisticsTimeTaggDetQubitsNodeParam6)\n",
    "np.save(pathScriptData+'ClientListNumStoredQubitsTabsNode'+ExtraDetailString,ListStatisticsTimeTaggDetQubitsNodeParam7)"
   ]
  },
  {
   "cell_type": "code",
   "execution_count": null,
   "metadata": {},
   "outputs": [],
   "source": [
    "# Plot ListNumStoredQubitsNode data\n",
    "ExtraDetailString='PTP'#'NoPTP'#'NoPTP'\n",
    "ListNumStoredQubitsNode=np.load(pathScriptData+'ClientListNumStoredQubitsNode'+ExtraDetailString+'.npy')\n",
    "plt.figure()#figsize=(8.0, 4.0))\n",
    "ax = plt.gca()\n",
    "plt.hist(ListNumStoredQubitsNode,bins=np.arange(0,2049,32))\n",
    "plt.xlabel('QuBits')\n",
    "plt.ylabel('hist. [counts]')\n",
    "#plt.title('Antenna Throughput Comparison')\n",
    "#plt.ylim(0, max(throughput_values) + 10)  # Adjust the y-axis limit for better visualization\n",
    "plt.tight_layout()\n",
    "#plt.savefig(pathScriptData+'TheorLOSvsNLOS.pdf', bbox_inches='tight', format = 'pdf', dpi = 300 )#dpi = 600 )\n",
    "plt.show()\n",
    "\n",
    "ListStatisticsTimeTaggDetQubitsNodeParam0=np.load(pathScriptData+'ClientListNumStoredQubitsCh1Node'+ExtraDetailString+'.npy')\n",
    "plt.figure()#figsize=(8.0, 4.0))\n",
    "ax = plt.gca()\n",
    "plt.hist(ListStatisticsTimeTaggDetQubitsNodeParam0,bins=np.arange(0,2049,32))\n",
    "plt.xlabel('QuBits')\n",
    "plt.ylabel('Ch1 hist. [counts]')\n",
    "#plt.title('Antenna Throughput Comparison')\n",
    "#plt.ylim(0, max(throughput_values) + 10)  # Adjust the y-axis limit for better visualization\n",
    "plt.tight_layout()\n",
    "#plt.savefig(pathScriptData+'TheorLOSvsNLOS.pdf', bbox_inches='tight', format = 'pdf', dpi = 300 )#dpi = 600 )\n",
    "plt.show()\n",
    "\n",
    "ListStatisticsTimeTaggDetQubitsNodeParam1=np.load(pathScriptData+'ClientListNumStoredQubitsCh2Node'+ExtraDetailString+'.npy')\n",
    "plt.figure()#figsize=(8.0, 4.0))\n",
    "ax = plt.gca()\n",
    "plt.hist(ListStatisticsTimeTaggDetQubitsNodeParam1,bins=np.arange(0,2049,32))\n",
    "plt.xlabel('QuBits')\n",
    "plt.ylabel('Ch2 hist. [counts]')\n",
    "#plt.title('Antenna Throughput Comparison')\n",
    "#plt.ylim(0, max(throughput_values) + 10)  # Adjust the y-axis limit for better visualization\n",
    "plt.tight_layout()\n",
    "#plt.savefig(pathScriptData+'TheorLOSvsNLOS.pdf', bbox_inches='tight', format = 'pdf', dpi = 300 )#dpi = 600 )\n",
    "plt.show()\n",
    "\n",
    "ListStatisticsTimeTaggDetQubitsNodeParam2=np.load(pathScriptData+'ClientListNumStoredQubitsCh3Node'+ExtraDetailString+'.npy')\n",
    "plt.figure()#figsize=(8.0, 4.0))\n",
    "ax = plt.gca()\n",
    "plt.hist(ListStatisticsTimeTaggDetQubitsNodeParam2,bins=np.arange(0,2049,32))\n",
    "plt.xlabel('QuBits')\n",
    "plt.ylabel('Ch3 hist. [counts]')\n",
    "#plt.title('Antenna Throughput Comparison')\n",
    "#plt.ylim(0, max(throughput_values) + 10)  # Adjust the y-axis limit for better visualization\n",
    "plt.tight_layout()\n",
    "#plt.savefig(pathScriptData+'TheorLOSvsNLOS.pdf', bbox_inches='tight', format = 'pdf', dpi = 300 )#dpi = 600 )\n",
    "plt.show()\n",
    "\n",
    "ListStatisticsTimeTaggDetQubitsNodeParam3=np.load(pathScriptData+'ClientListNumStoredQubitsCh4Node'+ExtraDetailString+'.npy')\n",
    "plt.figure()#figsize=(8.0, 4.0))\n",
    "ax = plt.gca()\n",
    "plt.hist(ListStatisticsTimeTaggDetQubitsNodeParam3,bins=np.arange(0,2049,32))\n",
    "plt.xlabel('QuBits')\n",
    "plt.ylabel('Ch4 hist. [counts]')\n",
    "#plt.title('Antenna Throughput Comparison')\n",
    "#plt.ylim(0, max(throughput_values) + 10)  # Adjust the y-axis limit for better visualization\n",
    "plt.tight_layout()\n",
    "#plt.savefig(pathScriptData+'TheorLOSvsNLOS.pdf', bbox_inches='tight', format = 'pdf', dpi = 300 )#dpi = 600 )\n",
    "plt.show()\n",
    "\n",
    "ListStatisticsTimeTaggDetQubitsNodeParam4=np.load(pathScriptData+'ClientListNumStoredQubitsMultiNode'+ExtraDetailString+'.npy')\n",
    "plt.figure()#figsize=(8.0, 4.0))\n",
    "ax = plt.gca()\n",
    "plt.hist(ListNumStoredQubitsNode,bins=np.arange(0,2049,32))\n",
    "plt.xlabel('QuBits')\n",
    "plt.ylabel('Multi Ch. hist. [counts]')\n",
    "#plt.title('Antenna Throughput Comparison')\n",
    "#plt.ylim(0, max(throughput_values) + 10)  # Adjust the y-axis limit for better visualization\n",
    "plt.tight_layout()\n",
    "#plt.savefig(pathScriptData+'TheorLOSvsNLOS.pdf', bbox_inches='tight', format = 'pdf', dpi = 300 )#dpi = 600 )\n",
    "plt.show()\n",
    "\n",
    "ListStatisticsTimeTaggDetQubitsNodeParam5=np.load(pathScriptData+'ClientListNumStoredQubitsTdiffAvgNode'+ExtraDetailString+'.npy')\n",
    "plt.figure()#figsize=(8.0, 4.0))\n",
    "ax = plt.gca()\n",
    "plt.plot(np.arange(0,len(ListStatisticsTimeTaggDetQubitsNodeParam5),1),ListStatisticsTimeTaggDetQubitsNodeParam5)\n",
    "plt.xlabel('Det. run')\n",
    "plt.ylabel('Time diff avg. [count]')\n",
    "#plt.title('Antenna Throughput Comparison')\n",
    "#plt.ylim(0, max(throughput_values) + 10)  # Adjust the y-axis limit for better visualization\n",
    "plt.tight_layout()\n",
    "#plt.savefig(pathScriptData+'TheorLOSvsNLOS.pdf', bbox_inches='tight', format = 'pdf', dpi = 300 )#dpi = 600 )\n",
    "plt.show()\n",
    "\n",
    "ListStatisticsTimeTaggDetQubitsNodeParam6=np.load(pathScriptData+'ClientListNumStoredQubitsTdiffStdNode'+ExtraDetailString+'.npy')\n",
    "plt.figure()#figsize=(8.0, 4.0))\n",
    "ax = plt.gca()\n",
    "plt.plot(np.arange(0,len(ListStatisticsTimeTaggDetQubitsNodeParam6),1),ListStatisticsTimeTaggDetQubitsNodeParam6)\n",
    "plt.xlabel('Det. run')\n",
    "plt.ylabel('Time. diff. std [counts]')\n",
    "#plt.title('Antenna Throughput Comparison')\n",
    "#plt.ylim(0, max(throughput_values) + 10)  # Adjust the y-axis limit for better visualization\n",
    "plt.tight_layout()\n",
    "#plt.savefig(pathScriptData+'TheorLOSvsNLOS.pdf', bbox_inches='tight', format = 'pdf', dpi = 300 )#dpi = 600 )\n",
    "plt.show()\n",
    "\n",
    "ListStatisticsTimeTaggDetQubitsNodeParam7=np.load(pathScriptData+'ClientListNumStoredQubitsTabsNode'+ExtraDetailString+'.npy')\n",
    "plt.figure()#figsize=(8.0, 4.0))\n",
    "ax = plt.gca()\n",
    "plt.plot(np.arange(0,len(ListStatisticsTimeTaggDetQubitsNodeParam7),1),ListStatisticsTimeTaggDetQubitsNodeParam7)\n",
    "plt.xlabel('Det. run')\n",
    "plt.ylabel('Time. abs [counts]')\n",
    "#plt.title('Antenna Throughput Comparison')\n",
    "#plt.ylim(0, max(throughput_values) + 10)  # Adjust the y-axis limit for better visualization\n",
    "plt.tight_layout()\n",
    "#plt.savefig(pathScriptData+'TheorLOSvsNLOS.pdf', bbox_inches='tight', format = 'pdf', dpi = 300 )#dpi = 600 )\n",
    "plt.show()\n"
   ]
  },
  {
   "cell_type": "code",
   "execution_count": null,
   "metadata": {},
   "outputs": [],
   "source": [
    "####### Debbuging synch intra runs\n",
    "# The GPIO c++ unskewing and threshold values are set to zero\n",
    "# Only channel 1 is connected\n",
    "# PRU1 PRUassTrigSigScriptHist4Sig.p is used\n",
    "# PTP protocol better enabled\n",
    "# Tags statistics  in QPhysLayer c++ is modified to this particular case"
   ]
  },
  {
   "cell_type": "code",
   "execution_count": 292,
   "metadata": {},
   "outputs": [
    {
     "name": "stdout",
     "output_type": "stream",
     "text": [
      "ListNumStoredQubitsNode: [256, 256, 256, 256, 256]\n",
      "ListStatisticsTimeTaggDetQubitsNodeParam0: [256.0, 256.0, 256.0, 256.0, 256.0]\n",
      "ListStatisticsTimeTaggDetQubitsNodeParam1: [0.0, 0.0, 0.0, 0.0, 0.0]\n",
      "ListStatisticsTimeTaggDetQubitsNodeParam2: [0.0, 0.0, 0.0, 0.0, 0.0]\n",
      "ListStatisticsTimeTaggDetQubitsNodeParam3: [0.0, 0.0, 0.0, 0.0, 0.0]\n",
      "ListStatisticsTimeTaggDetQubitsNodeParam4: [0.0, 0.0, 0.0, 0.0, 0.0]\n",
      "ListStatisticsTimeTaggDetQubitsNodeParam5: [0.0, 0.0, 0.0, 0.0, 0.0]\n",
      "ListStatisticsTimeTaggDetQubitsNodeParam6: [0.0, 0.0, 0.0, 0.0, 0.0]\n",
      "ListStatisticsTimeTaggDetQubitsNodeParam7: [22705545738.0, 24018251847.0, 25679418186.0, 27300606950.0, 28992772285.0]\n"
     ]
    }
   ],
   "source": [
    "import time\n",
    "import random\n",
    "NumTestMax = 5\n",
    "ListNumStoredQubitsNode=[]\n",
    "ListStatisticsTimeTaggDetQubitsNodeParam0=[]\n",
    "ListStatisticsTimeTaggDetQubitsNodeParam1=[]\n",
    "ListStatisticsTimeTaggDetQubitsNodeParam2=[]\n",
    "ListStatisticsTimeTaggDetQubitsNodeParam3=[]\n",
    "ListStatisticsTimeTaggDetQubitsNodeParam4=[]\n",
    "ListStatisticsTimeTaggDetQubitsNodeParam5=[]\n",
    "ListStatisticsTimeTaggDetQubitsNodeParam6=[]\n",
    "ListStatisticsTimeTaggDetQubitsNodeParam7=[]\n",
    "for iIterTest in range(0,NumTestMax,1):    \n",
    "    # Sending request\n",
    "    QPLAagent.SimulateRequestQubitsHost(IPhostServerOpNet,IPhostClientOpNet,IPnodeClientConNet,IPhostClientOpNet,128) # Request that host's node sends qubits to this host's node\n",
    "    NumStoredQubitsNode = np.zeros(1, dtype=np.intc)# np.array([0], dtype=np.intc)\n",
    "    StatisticsTimeTagDetStoredQubitsNode = np.zeros(8, dtype=np.double)# equivalnet to float64 for C like arrays\n",
    "    QPLAagent.SimulateRetrieveNumStoredQubitsNode(IPnodeClientConNet,IPhostClientConNet,NumStoredQubitsNode,StatisticsTimeTagDetStoredQubitsNode) # Supposing that node has received quBits, return number of QuBits\n",
    "    ListNumStoredQubitsNode.append(NumStoredQubitsNode[0])\n",
    "    ListStatisticsTimeTaggDetQubitsNodeParam0.append(StatisticsTimeTagDetStoredQubitsNode[0])\n",
    "    ListStatisticsTimeTaggDetQubitsNodeParam1.append(StatisticsTimeTagDetStoredQubitsNode[1])\n",
    "    ListStatisticsTimeTaggDetQubitsNodeParam2.append(StatisticsTimeTagDetStoredQubitsNode[2])\n",
    "    ListStatisticsTimeTaggDetQubitsNodeParam3.append(StatisticsTimeTagDetStoredQubitsNode[3])\n",
    "    ListStatisticsTimeTaggDetQubitsNodeParam4.append(StatisticsTimeTagDetStoredQubitsNode[4])\n",
    "    ListStatisticsTimeTaggDetQubitsNodeParam5.append(StatisticsTimeTagDetStoredQubitsNode[5])\n",
    "    ListStatisticsTimeTaggDetQubitsNodeParam6.append(StatisticsTimeTagDetStoredQubitsNode[6])\n",
    "    ListStatisticsTimeTaggDetQubitsNodeParam7.append(StatisticsTimeTagDetStoredQubitsNode[7])\n",
    "    time.sleep(5.0)\n",
    "    #time.sleep(int(15.0*random.uniform(0,1)))\n",
    "print('ListNumStoredQubitsNode: '+str(ListNumStoredQubitsNode))\n",
    "print('ListStatisticsTimeTaggDetQubitsNodeParam0: '+str(ListStatisticsTimeTaggDetQubitsNodeParam0))\n",
    "print('ListStatisticsTimeTaggDetQubitsNodeParam1: '+str(ListStatisticsTimeTaggDetQubitsNodeParam1))\n",
    "print('ListStatisticsTimeTaggDetQubitsNodeParam2: '+str(ListStatisticsTimeTaggDetQubitsNodeParam2))\n",
    "print('ListStatisticsTimeTaggDetQubitsNodeParam3: '+str(ListStatisticsTimeTaggDetQubitsNodeParam3))\n",
    "print('ListStatisticsTimeTaggDetQubitsNodeParam4: '+str(ListStatisticsTimeTaggDetQubitsNodeParam4))\n",
    "print('ListStatisticsTimeTaggDetQubitsNodeParam5: '+str(ListStatisticsTimeTaggDetQubitsNodeParam5))\n",
    "print('ListStatisticsTimeTaggDetQubitsNodeParam6: '+str(ListStatisticsTimeTaggDetQubitsNodeParam6))\n",
    "print('ListStatisticsTimeTaggDetQubitsNodeParam7: '+str(ListStatisticsTimeTaggDetQubitsNodeParam7))"
   ]
  },
  {
   "cell_type": "code",
   "execution_count": 293,
   "metadata": {},
   "outputs": [],
   "source": [
    "# Save generated data\n",
    "#print(os.getcwd())\n",
    "ExtraDetailString='PTP'#'NoPTP'# 'NTP'#'PTP'\n",
    "np.save(pathScriptData+'ClientListNumStoredQubitsNode'+ExtraDetailString,ListNumStoredQubitsNode)\n",
    "np.save(pathScriptData+'ClientListNumStoredQubitsCh1Node'+ExtraDetailString,ListStatisticsTimeTaggDetQubitsNodeParam0)\n",
    "np.save(pathScriptData+'ClientListNumStoredQubitsCh2Node'+ExtraDetailString,ListStatisticsTimeTaggDetQubitsNodeParam1)\n",
    "np.save(pathScriptData+'ClientListNumStoredQubitsCh3Node'+ExtraDetailString,ListStatisticsTimeTaggDetQubitsNodeParam2)\n",
    "np.save(pathScriptData+'ClientListNumStoredQubitsCh4Node'+ExtraDetailString,ListStatisticsTimeTaggDetQubitsNodeParam3)\n",
    "np.save(pathScriptData+'ClientListNumStoredQubitsMultiNode'+ExtraDetailString,ListStatisticsTimeTaggDetQubitsNodeParam4)\n",
    "np.save(pathScriptData+'ClientListNumStoredQubitsTdiffAvgNode'+ExtraDetailString,ListStatisticsTimeTaggDetQubitsNodeParam5)\n",
    "np.save(pathScriptData+'ClientListNumStoredQubitsTdiffStdNode'+ExtraDetailString,ListStatisticsTimeTaggDetQubitsNodeParam6)\n",
    "np.save(pathScriptData+'ClientListNumStoredQubitsTabsNode'+ExtraDetailString,ListStatisticsTimeTaggDetQubitsNodeParam7)"
   ]
  },
  {
   "cell_type": "code",
   "execution_count": 296,
   "metadata": {},
   "outputs": [
    {
     "data": {
      "image/png": "[encoded data removed]",
      "text/plain": [
       "<Figure size 432x288 with 1 Axes>"
      ]
     },
     "metadata": {
      "needs_background": "light"
     },
     "output_type": "display_data"
    },
    {
     "data": {
      "image/png": "[encoded data removed]",
      "text/plain": [
       "<Figure size 432x288 with 1 Axes>"
      ]
     },
     "metadata": {
      "needs_background": "light"
     },
     "output_type": "display_data"
    },
    {
     "name": "stdout",
     "output_type": "stream",
     "text": [
      "Intra time. wrap diff. avg. [counts]: 0.0\n",
      "Intra time. wrap diff. std [counts]: 0.0\n"
     ]
    },
    {
     "data": {
      "image/png": "[encoded data removed]",
      "text/plain": [
       "<Figure size 432x288 with 1 Axes>"
      ]
     },
     "metadata": {
      "needs_background": "light"
     },
     "output_type": "display_data"
    },
    {
     "data": {
      "image/png": "[encoded data removed]",
      "text/plain": [
       "<Figure size 432x288 with 1 Axes>"
      ]
     },
     "metadata": {
      "needs_background": "light"
     },
     "output_type": "display_data"
    },
    {
     "data": {
      "image/png": "[encoded data removed]",
      "text/plain": [
       "<Figure size 432x288 with 1 Axes>"
      ]
     },
     "metadata": {
      "needs_background": "light"
     },
     "output_type": "display_data"
    },
    {
     "data": {
      "image/png": "[encoded data removed]",
      "text/plain": [
       "<Figure size 432x288 with 1 Axes>"
      ]
     },
     "metadata": {
      "needs_background": "light"
     },
     "output_type": "display_data"
    },
    {
     "name": "stdout",
     "output_type": "stream",
     "text": [
      "Inter time. wrap diff. avg. [counts]: -4.75\n",
      "Inter time. wrap diff. median [counts]: -3.5\n",
      "Inter time. wrap diff. std [counts]: 4.145781\n"
     ]
    },
    {
     "data": {
      "image/png": "[encoded data removed]",
      "text/plain": [
       "<Figure size 432x288 with 1 Axes>"
      ]
     },
     "metadata": {
      "needs_background": "light"
     },
     "output_type": "display_data"
    }
   ],
   "source": [
    "## Synchronization analysis inter and intra runs\n",
    "# Connect on the timetagg part only channel 1\n",
    "# It has to be used PRUassTrigSigScriptHist4Sig in PRU1\n",
    "# Attention TimeTaggsDetAnalytics[5] stores the mean wrap count difference\n",
    "# Attention TimeTaggsDetAnalytics[6] stores the std wrap count difference\n",
    "ExtraDetailString='PTP'#'NoPTP'# 'NTP'#'PTP'\n",
    "HistPeriodicityAux=8.0*8192.0# Histogram analysis periodicity\n",
    "ListNumStoredQubitsNode=np.load(pathScriptData+'ClientListNumStoredQubitsNode'+ExtraDetailString+'.npy')\n",
    "NonZeroIndecesDet=np.where(ListNumStoredQubitsNode>0)[0]\n",
    "ListStatisticsTimeTaggDetQubitsNodeParam5=(np.load(pathScriptData+'ClientListNumStoredQubitsTdiffAvgNode'+ExtraDetailString+'.npy'))[NonZeroIndecesDet]\n",
    "plt.figure()#figsize=(8.0, 4.0))\n",
    "ax = plt.gca()\n",
    "plt.plot(np.arange(0,len(ListStatisticsTimeTaggDetQubitsNodeParam5),1),ListStatisticsTimeTaggDetQubitsNodeParam5)\n",
    "plt.xlabel('Det. run')\n",
    "plt.ylabel('Intra time. wrap diff. avg. [counts]')\n",
    "#plt.title('Antenna Throughput Comparison')\n",
    "#plt.ylim(0, max(throughput_values) + 10)  # Adjust the y-axis limit for better visualization\n",
    "plt.tight_layout()\n",
    "#plt.savefig(pathScriptData+'TheorLOSvsNLOS.pdf', bbox_inches='tight', format = 'pdf', dpi = 300 )#dpi = 600 )\n",
    "plt.show()\n",
    "\n",
    "ListStatisticsTimeTaggDetQubitsNodeParam6=(np.load(pathScriptData+'ClientListNumStoredQubitsTdiffStdNode'+ExtraDetailString+'.npy'))[NonZeroIndecesDet]\n",
    "plt.figure()#figsize=(8.0, 4.0))\n",
    "ax = plt.gca()\n",
    "plt.plot(np.arange(0,len(ListStatisticsTimeTaggDetQubitsNodeParam6),1),ListStatisticsTimeTaggDetQubitsNodeParam6)\n",
    "plt.xlabel('Det. run')\n",
    "plt.ylabel('Intra time. wrap diff. Std [counts]')\n",
    "#plt.title('Antenna Throughput Comparison')\n",
    "#plt.ylim(0, max(throughput_values) + 10)  # Adjust the y-axis limit for better visualization\n",
    "plt.tight_layout()\n",
    "#plt.savefig(pathScriptData+'TheorLOSvsNLOS.pdf', bbox_inches='tight', format = 'pdf', dpi = 300 )#dpi = 600 )\n",
    "plt.show()\n",
    "\n",
    "print('Intra time. wrap diff. avg. [counts]: '+str(np.mean(ListStatisticsTimeTaggDetQubitsNodeParam5)))\n",
    "print('Intra time. wrap diff. std [counts]: '+str(np.mean(ListStatisticsTimeTaggDetQubitsNodeParam6)))\n",
    "\n",
    "# Histogram analysis\n",
    "# Define the number of bins and periodicity\n",
    "num_bins = 8\n",
    "periodicity = HistPeriodicityAux\n",
    "\n",
    "# Calculate the bins edges\n",
    "bin_edges = np.linspace(-periodicity/2, periodicity/2, 32*num_bins+1)\n",
    "\n",
    "# Calculate bin centers from edges for plotting\n",
    "bin_centers = (bin_edges[:-1] + bin_edges[1:]) / 2\n",
    "\n",
    "# Generate histogram data with normalization\n",
    "hist, bins = np.histogram(ListStatisticsTimeTaggDetQubitsNodeParam5, bins=bin_edges, density=True)\n",
    "\n",
    "plt.figure()#figsize=(8.0, 4.0))\n",
    "ax = plt.gca()\n",
    "plt.bar(bin_centers, hist/np.sum(hist),width=(bin_edges[1] - bin_edges[0]))#, density=True)\n",
    "plt.xlabel('Hist. bins')\n",
    "plt.ylabel('Hist. Intra time. wrap diff. [counts]')\n",
    "#plt.title('Antenna Throughput Comparison')\n",
    "#plt.ylim(0, max(throughput_values) + 10)  # Adjust the y-axis limit for better visualization\n",
    "plt.tight_layout()\n",
    "#plt.savefig(pathScriptData+'TheorLOSvsNLOS.pdf', bbox_inches='tight', format = 'pdf', dpi = 300 )#dpi = 600 )\n",
    "plt.show()\n",
    "\n",
    "#Inter runs checker of the initial detection in channel 1\n",
    "# The plot below helps adjust the Threshold value (we should a constantly increasing line - never a decrease jump)\n",
    "# If the first out of place is a up-bump->threshold value too high\n",
    "# If the first out of place is a down-bump->threshold value too low\n",
    "ListStatisticsTimeTaggDetQubitsNodeParam7=(np.load(pathScriptData+'ClientListNumStoredQubitsTabsNode'+ExtraDetailString+'.npy'))[NonZeroIndecesDet]\n",
    "plt.figure()#figsize=(8.0, 4.0))\n",
    "ax = plt.gca()\n",
    "plt.plot(np.arange(1,len(ListStatisticsTimeTaggDetQubitsNodeParam7),1),ListStatisticsTimeTaggDetQubitsNodeParam7[1:])\n",
    "plt.xlabel('Det. run')\n",
    "plt.ylabel('Inter time. abs. [counts]')\n",
    "#plt.title('Antenna Throughput Comparison')\n",
    "#plt.ylim(0, max(throughput_values) + 10)  # Adjust the y-axis limit for better visualization\n",
    "plt.tight_layout()\n",
    "#plt.savefig(pathScriptData+'TheorLOSvsNLOS.pdf', bbox_inches='tight', format = 'pdf', dpi = 300 )#dpi = 600 )\n",
    "plt.show()\n",
    "\n",
    "ListStatisticsTimeTaggDetQubitsNodeParam7=(np.load(pathScriptData+'ClientListNumStoredQubitsTabsNode'+ExtraDetailString+'.npy'))[NonZeroIndecesDet]\n",
    "IntraRunSynchChecker=np.zeros(len(ListStatisticsTimeTaggDetQubitsNodeParam7)-2,dtype=np.float32)\n",
    "for iIter in range(1,len(ListStatisticsTimeTaggDetQubitsNodeParam7)-1,1):    \n",
    "    IntraRunSynchChecker[iIter-1]=ListStatisticsTimeTaggDetQubitsNodeParam7[iIter+1]-ListStatisticsTimeTaggDetQubitsNodeParam7[iIter]\n",
    "plt.figure()#figsize=(8.0, 4.0))\n",
    "ax = plt.gca()\n",
    "plt.plot(np.arange(1,len(ListStatisticsTimeTaggDetQubitsNodeParam7)-1,1),IntraRunSynchChecker)\n",
    "plt.xlabel('Det. run')\n",
    "plt.ylabel('Inter time. diff. [counts]')\n",
    "#plt.title('Antenna Throughput Comparison')\n",
    "#plt.ylim(0, max(throughput_values) + 10)  # Adjust the y-axis limit for better visualization\n",
    "plt.tight_layout()\n",
    "#plt.savefig(pathScriptData+'TheorLOSvsNLOS.pdf', bbox_inches='tight', format = 'pdf', dpi = 300 )#dpi = 600 )\n",
    "plt.show()\n",
    "\n",
    "ListStatisticsTimeTaggDetQubitsNodeParam7=(np.load(pathScriptData+'ClientListNumStoredQubitsTabsNode'+ExtraDetailString+'.npy'))[NonZeroIndecesDet]\n",
    "IntraRunSynchChecker=np.zeros(len(ListStatisticsTimeTaggDetQubitsNodeParam7)-1,dtype=np.float32)\n",
    "for iIter in range(0,len(ListStatisticsTimeTaggDetQubitsNodeParam7)-1,1):\n",
    "    CalcAux=ListStatisticsTimeTaggDetQubitsNodeParam7[iIter+1]-ListStatisticsTimeTaggDetQubitsNodeParam7[1*iIter]\n",
    "    NumCycles=np.round(CalcAux/HistPeriodicityAux)\n",
    "    IntraRunSynchChecker[iIter]=(np.mod(HistPeriodicityAux/2.0+CalcAux,HistPeriodicityAux+1)-HistPeriodicityAux/2.0)#/NumCycles\n",
    "HistAuxIntraRunSynchChecker=IntraRunSynchChecker\n",
    "plt.figure()#figsize=(8.0, 4.0))\n",
    "ax = plt.gca()\n",
    "plt.plot(np.arange(0,len(ListStatisticsTimeTaggDetQubitsNodeParam7)-1,1),IntraRunSynchChecker)\n",
    "plt.xlabel('Det. run')\n",
    "plt.ylabel('Inter time. wrap diff. [counts]')\n",
    "#plt.title('Antenna Throughput Comparison')\n",
    "#plt.ylim(0, max(throughput_values) + 10)  # Adjust the y-axis limit for better visualization\n",
    "plt.tight_layout()\n",
    "#plt.savefig(pathScriptData+'TheorLOSvsNLOS.pdf', bbox_inches='tight', format = 'pdf', dpi = 300 )#dpi = 600 )\n",
    "plt.show()\n",
    "\n",
    "print('Inter time. wrap diff. avg. [counts]: '+str(np.mean(IntraRunSynchChecker)))\n",
    "print('Inter time. wrap diff. median [counts]: '+str(np.median(IntraRunSynchChecker)))\n",
    "print('Inter time. wrap diff. std [counts]: '+str(np.std(IntraRunSynchChecker)))\n",
    "\n",
    "# Histogram analysis\n",
    "# Define the number of bins and periodicity\n",
    "num_bins = 8\n",
    "periodicity = HistPeriodicityAux\n",
    "\n",
    "# Calculate the bins edges\n",
    "bin_edges = np.linspace(-periodicity/2, periodicity/2, 4*num_bins+1)\n",
    "\n",
    "# Calculate bin centers from edges for plotting\n",
    "bin_centers = (bin_edges[:-1] + bin_edges[1:]) / 2\n",
    "\n",
    "# Generate histogram data with normalization\n",
    "hist, bins = np.histogram(HistAuxIntraRunSynchChecker, bins=bin_edges, density=True)\n",
    "\n",
    "plt.figure()#figsize=(8.0, 4.0))\n",
    "ax = plt.gca()\n",
    "plt.bar(bin_centers, hist/np.sum(hist),width=(bin_edges[1] - bin_edges[0]))#, density=True)\n",
    "plt.xlabel('Hist. bins')\n",
    "plt.ylabel('Hist. Inter time. wrap diff. [counts]')\n",
    "#plt.title('Antenna Throughput Comparison')\n",
    "#plt.ylim(0, max(throughput_values) + 10)  # Adjust the y-axis limit for better visualization\n",
    "plt.tight_layout()\n",
    "#plt.savefig(pathScriptData+'TheorLOSvsNLOS.pdf', bbox_inches='tight', format = 'pdf', dpi = 300 )#dpi = 600 )\n",
    "plt.show()"
   ]
  },
  {
   "cell_type": "code",
   "execution_count": 255,
   "metadata": {},
   "outputs": [
    {
     "data": {
      "image/png": "[encoded data removed]",
      "text/plain": [
       "<Figure size 432x288 with 1 Axes>"
      ]
     },
     "metadata": {
      "needs_background": "light"
     },
     "output_type": "display_data"
    },
    {
     "data": {
      "image/png": "[encoded data removed]",
      "text/plain": [
       "<Figure size 432x288 with 1 Axes>"
      ]
     },
     "metadata": {
      "needs_background": "light"
     },
     "output_type": "display_data"
    },
    {
     "name": "stdout",
     "output_type": "stream",
     "text": [
      "Intra time. wrap diff. avg. [counts]: 0.0\n",
      "Intra time. wrap diff. std [counts]: 0.0\n"
     ]
    },
    {
     "data": {
      "image/png": "[encoded data removed]",
      "text/plain": [
       "<Figure size 432x288 with 1 Axes>"
      ]
     },
     "metadata": {
      "needs_background": "light"
     },
     "output_type": "display_data"
    }
   ],
   "source": [
    "#### Raw analysis of the Timetag binary files\n",
    "def ParseDataFromTimeTagFile(ArrayBinaryAux):\n",
    "    # Timetag binary files are formated as lines with 64 bits of time counter and 8 bits of detection channels\n",
    "    # Furthermore, there are multiples of 2048 detection lines per file\n",
    "    # So first discover how many lines    \n",
    "    UINT8perLine=9\n",
    "    LenUINT8Lines=int(len(ArrayBinaryAux)/UINT8perLine) # Number of lines\n",
    "    CompleteListCountTags=np.zeros(LenUINT8Lines,dtype=np.uint64)\n",
    "    CompleteListDet=np.zeros(LenUINT8Lines,dtype=np.uint8)    \n",
    "    for iIterLines in range(0,LenUINT8Lines,1):\n",
    "        CurrentCounTag=np.frombuffer(ArrayBinaryAux[iIterLines*UINT8perLine+0:iIterLines*UINT8perLine+8], dtype=np.uint64)[0]\n",
    "        CurrentDet=np.uint8(ArrayBinaryAux[iIterLines*UINT8perLine+8])\n",
    "        CompleteListCountTags[iIterLines]=CurrentCounTag\n",
    "        CompleteListDet[iIterLines]=CurrentDet\n",
    "    return CompleteListCountTags, CompleteListDet\n",
    "\n",
    "ExtraDetailString='PTP'#'NTP'#'NoPTP'# 'NTP'#'PTP'\n",
    "ClientRawStoredQubitsNodeFull=np.fromfile(pathScriptData+'ClientRawStoredQubitsNode'+ExtraDetailString,dtype='uint8')\n",
    "\n",
    "[ClientRawStoredQubitsNodeCountsTags,ClientRawStoredQubitsNodeDet]=ParseDataFromTimeTagFile(ClientRawStoredQubitsNodeFull)\n",
    "\n",
    "# Zero Time Point\n",
    "ClientRawStoredQubitsNodeCountsTags=ClientRawStoredQubitsNodeCountsTags-ClientRawStoredQubitsNodeCountsTags[0]\n",
    "\n",
    "plt.figure()#figsize=(8.0, 4.0))\n",
    "ax = plt.gca()\n",
    "plt.plot(np.arange(0,len(ClientRawStoredQubitsNodeCountsTags),1),ClientRawStoredQubitsNodeCountsTags)\n",
    "plt.xlabel('Time run')\n",
    "plt.ylabel('Intra time [counts]')\n",
    "#plt.title('Antenna Throughput Comparison')\n",
    "#plt.ylim(0, max(throughput_values) + 10)  # Adjust the y-axis limit for better visualization\n",
    "plt.tight_layout()\n",
    "#plt.savefig(pathScriptData+'TheorLOSvsNLOS.pdf', bbox_inches='tight', format = 'pdf', dpi = 300 )#dpi = 600 )\n",
    "plt.show()\n",
    "\n",
    "PeriodicityNum=(np.asarray([HistPeriodicityAux])).astype(np.int64)\n",
    "ListNegativeIncreaseCheckerIndices=[]\n",
    "IntraRunSynchChecker=np.zeros(len(ClientRawStoredQubitsNodeCountsTags)-1,dtype=float)\n",
    "for iIter in range(0,len(ClientRawStoredQubitsNodeCountsTags)-1,1):\n",
    "    DiffCalcAux=(ClientRawStoredQubitsNodeCountsTags[iIter+1]).astype(np.int64)-(ClientRawStoredQubitsNodeCountsTags[1*iIter+0]).astype(np.int64)\n",
    "    DiffNextCalcAux=(ClientRawStoredQubitsNodeCountsTags[iIter+1]).astype(np.int64)-(ClientRawStoredQubitsNodeCountsTags[1*iIter+0]).astype(np.int64)\n",
    "    NumCycles=np.round(DiffCalcAux/(PeriodicityNum[0]).astype(float))\n",
    "    if (DiffNextCalcAux<=0):\n",
    "        ListNegativeIncreaseCheckerIndices.append(iIter+1)\n",
    "    IntraRunSynchChecker[iIter]=(np.mod(HistPeriodicityAux/2.0+DiffCalcAux,PeriodicityNum[0]+1)-HistPeriodicityAux/2.0)/NumCycles\n",
    "    #print(NumCycles)\n",
    "    #print(IntraRunSynchChecker[iIter])\n",
    "if (len(ListNegativeIncreaseCheckerIndices)>0):\n",
    "    print('ListNegativeIncreaseCheckerIndices: '+str(ListNegativeIncreaseCheckerIndices))\n",
    "plt.figure()#figsize=(8.0, 4.0))\n",
    "ax = plt.gca()\n",
    "plt.plot(np.arange(0,len(ClientRawStoredQubitsNodeCountsTags)-1,1),IntraRunSynchChecker)\n",
    "plt.xlabel('Det. run')\n",
    "plt.ylabel('Intra time. wrap diff. [counts]')\n",
    "#plt.title('Antenna Throughput Comparison')\n",
    "#plt.ylim(0, max(throughput_values) + 10)  # Adjust the y-axis limit for better visualization\n",
    "plt.tight_layout()\n",
    "#plt.savefig(pathScriptData+'TheorLOSvsNLOS.pdf', bbox_inches='tight', format = 'pdf', dpi = 300 )#dpi = 600 )\n",
    "plt.show()\n",
    "\n",
    "print('Intra time. wrap diff. avg. [counts]: '+str(np.mean(IntraRunSynchChecker)))\n",
    "print('Intra time. wrap diff. std [counts]: '+str(np.std(IntraRunSynchChecker)))\n",
    "\n",
    "plt.figure()#figsize=(8.0, 4.0))\n",
    "ax = plt.gca()\n",
    "plt.plot(np.arange(0,len(ClientRawStoredQubitsNodeDet),1),ClientRawStoredQubitsNodeDet)\n",
    "plt.xlabel('Time run')\n",
    "plt.ylabel('Detections channels')\n",
    "#plt.title('Antenna Throughput Comparison')\n",
    "#plt.ylim(0, max(throughput_values) + 10)  # Adjust the y-axis limit for better visualization\n",
    "plt.tight_layout()\n",
    "#plt.savefig(pathScriptData+'TheorLOSvsNLOS.pdf', bbox_inches='tight', format = 'pdf', dpi = 300 )#dpi = 600 )\n",
    "plt.show()"
   ]
  },
  {
   "cell_type": "code",
   "execution_count": null,
   "metadata": {},
   "outputs": [],
   "source": []
  }
 ],
 "metadata": {
  "kernelspec": {
   "display_name": "Python 3",
   "language": "python",
   "name": "python3"
  },
  "language_info": {
   "codemirror_mode": {
    "name": "ipython",
    "version": 3
   },
   "file_extension": ".py",
   "mimetype": "text/x-python",
   "name": "python",
   "nbconvert_exporter": "python",
   "pygments_lexer": "ipython3",
   "version": "3.7.3"
  }
 },
 "nbformat": 4,
 "nbformat_minor": 5
}
