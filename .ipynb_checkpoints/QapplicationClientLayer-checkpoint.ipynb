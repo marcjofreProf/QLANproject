{
 "cells": [
  {
   "cell_type": "code",
   "execution_count": 1,
   "metadata": {},
   "outputs": [],
   "source": [
    "#####################################################\n",
    "# Author: Marc Jofre\n",
    "# Script Quantum LAN application Client layer\n",
    "#####################################################\n",
    "import sys, os\n",
    "\n",
    "pathScriptBelowAgentScript='./CppScripts/'\n",
    "sys.path.append(pathScriptBelowAgentScript)\n",
    "pathScriptBelowAgentScript='./JupyterPythonScripts/'\n",
    "sys.path.append(pathScriptBelowAgentScript)\n",
    "\n",
    "import QpresentationLayerAgent\n",
    "#####################################################\n",
    "# Parameters\n",
    "## Network\n",
    "IPhostClientConNet = \"192.168.8.3\" # IP address of the client host in the control/configuration network\n",
    "IPhostClientOpNet = \"10.0.0.2\" # IP address of the client host in the operation network\n",
    "IPnodeClientConNet = \"192.168.8.2\" # IP address of the server node (connected to the server host) in the control/configuration nework\n",
    "IPnodeclientOpNet = \"10.0.0.254\" # IP address of the server node in the operation network\n",
    "\n",
    "IPClientList = [IPhostClientConNet,IPhostClientOpNet,IPnodeClientConNet,IPnodeclientOpNet]\n",
    "\n",
    "# The parameters passed and received from agents are structured\n",
    "ParamsAscendingCharArray = [\"none\"]\n",
    "ParamsDescendingCharArray = IPClientList"
   ]
  },
  {
   "cell_type": "code",
   "execution_count": null,
   "metadata": {},
   "outputs": [],
   "source": [
    "QpresentationLayerAgent.InitAgent(ParamsDescendingCharArray,ParamsAscendingCharArray) # Initialize the below Agent"
   ]
  }
 ],
 "metadata": {
  "kernelspec": {
   "display_name": "Python 3",
   "language": "python",
   "name": "python3"
  },
  "language_info": {
   "codemirror_mode": {
    "name": "ipython",
    "version": 3
   },
   "file_extension": ".py",
   "mimetype": "text/x-python",
   "name": "python",
   "nbconvert_exporter": "python",
   "pygments_lexer": "ipython3",
   "version": "3.7.3"
  }
 },
 "nbformat": 4,
 "nbformat_minor": 5
}
